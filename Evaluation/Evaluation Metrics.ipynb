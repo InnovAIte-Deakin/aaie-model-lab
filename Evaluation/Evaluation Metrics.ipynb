{
  "nbformat": 4,
  "nbformat_minor": 0,
  "metadata": {
    "colab": {
      "provenance": [],
      "gpuType": "T4",
      "toc_visible": true
    },
    "kernelspec": {
      "name": "python3",
      "display_name": "Python 3"
    },
    "language_info": {
      "name": "python"
    },
    "widgets": {
      "application/vnd.jupyter.widget-state+json": {
        "9397036efb8345aa9f535a83b85d8ae4": {
          "model_module": "@jupyter-widgets/controls",
          "model_name": "HBoxModel",
          "model_module_version": "1.5.0",
          "state": {
            "_dom_classes": [],
            "_model_module": "@jupyter-widgets/controls",
            "_model_module_version": "1.5.0",
            "_model_name": "HBoxModel",
            "_view_count": null,
            "_view_module": "@jupyter-widgets/controls",
            "_view_module_version": "1.5.0",
            "_view_name": "HBoxView",
            "box_style": "",
            "children": [
              "IPY_MODEL_2231a05ab9fc4444a42f745b54f5f7f7",
              "IPY_MODEL_979596b2d565450b8f1c013b6849cbc0",
              "IPY_MODEL_56754b314fd34af6839813cc232284a5"
            ],
            "layout": "IPY_MODEL_a6ef66cf4f3c4da4b3e30e195c9f8b07"
          }
        },
        "2231a05ab9fc4444a42f745b54f5f7f7": {
          "model_module": "@jupyter-widgets/controls",
          "model_name": "HTMLModel",
          "model_module_version": "1.5.0",
          "state": {
            "_dom_classes": [],
            "_model_module": "@jupyter-widgets/controls",
            "_model_module_version": "1.5.0",
            "_model_name": "HTMLModel",
            "_view_count": null,
            "_view_module": "@jupyter-widgets/controls",
            "_view_module_version": "1.5.0",
            "_view_name": "HTMLView",
            "description": "",
            "description_tooltip": null,
            "layout": "IPY_MODEL_332f10d19ac4410690ad34e6ebe2c051",
            "placeholder": "​",
            "style": "IPY_MODEL_78f0201fdd234e19b64aa7177ea49370",
            "value": "Loading checkpoint shards: 100%"
          }
        },
        "979596b2d565450b8f1c013b6849cbc0": {
          "model_module": "@jupyter-widgets/controls",
          "model_name": "FloatProgressModel",
          "model_module_version": "1.5.0",
          "state": {
            "_dom_classes": [],
            "_model_module": "@jupyter-widgets/controls",
            "_model_module_version": "1.5.0",
            "_model_name": "FloatProgressModel",
            "_view_count": null,
            "_view_module": "@jupyter-widgets/controls",
            "_view_module_version": "1.5.0",
            "_view_name": "ProgressView",
            "bar_style": "success",
            "description": "",
            "description_tooltip": null,
            "layout": "IPY_MODEL_1e639d894a174f5f9dd98181066e108c",
            "max": 2,
            "min": 0,
            "orientation": "horizontal",
            "style": "IPY_MODEL_9d142956e93d46509a4e394964da42c1",
            "value": 2
          }
        },
        "56754b314fd34af6839813cc232284a5": {
          "model_module": "@jupyter-widgets/controls",
          "model_name": "HTMLModel",
          "model_module_version": "1.5.0",
          "state": {
            "_dom_classes": [],
            "_model_module": "@jupyter-widgets/controls",
            "_model_module_version": "1.5.0",
            "_model_name": "HTMLModel",
            "_view_count": null,
            "_view_module": "@jupyter-widgets/controls",
            "_view_module_version": "1.5.0",
            "_view_name": "HTMLView",
            "description": "",
            "description_tooltip": null,
            "layout": "IPY_MODEL_0e48d5dbab8246b6a00c9997de8dd701",
            "placeholder": "​",
            "style": "IPY_MODEL_85b3c72dd41c472e9441f97a6aec5287",
            "value": " 2/2 [00:27&lt;00:00, 11.60s/it]"
          }
        },
        "a6ef66cf4f3c4da4b3e30e195c9f8b07": {
          "model_module": "@jupyter-widgets/base",
          "model_name": "LayoutModel",
          "model_module_version": "1.2.0",
          "state": {
            "_model_module": "@jupyter-widgets/base",
            "_model_module_version": "1.2.0",
            "_model_name": "LayoutModel",
            "_view_count": null,
            "_view_module": "@jupyter-widgets/base",
            "_view_module_version": "1.2.0",
            "_view_name": "LayoutView",
            "align_content": null,
            "align_items": null,
            "align_self": null,
            "border": null,
            "bottom": null,
            "display": null,
            "flex": null,
            "flex_flow": null,
            "grid_area": null,
            "grid_auto_columns": null,
            "grid_auto_flow": null,
            "grid_auto_rows": null,
            "grid_column": null,
            "grid_gap": null,
            "grid_row": null,
            "grid_template_areas": null,
            "grid_template_columns": null,
            "grid_template_rows": null,
            "height": null,
            "justify_content": null,
            "justify_items": null,
            "left": null,
            "margin": null,
            "max_height": null,
            "max_width": null,
            "min_height": null,
            "min_width": null,
            "object_fit": null,
            "object_position": null,
            "order": null,
            "overflow": null,
            "overflow_x": null,
            "overflow_y": null,
            "padding": null,
            "right": null,
            "top": null,
            "visibility": null,
            "width": null
          }
        },
        "332f10d19ac4410690ad34e6ebe2c051": {
          "model_module": "@jupyter-widgets/base",
          "model_name": "LayoutModel",
          "model_module_version": "1.2.0",
          "state": {
            "_model_module": "@jupyter-widgets/base",
            "_model_module_version": "1.2.0",
            "_model_name": "LayoutModel",
            "_view_count": null,
            "_view_module": "@jupyter-widgets/base",
            "_view_module_version": "1.2.0",
            "_view_name": "LayoutView",
            "align_content": null,
            "align_items": null,
            "align_self": null,
            "border": null,
            "bottom": null,
            "display": null,
            "flex": null,
            "flex_flow": null,
            "grid_area": null,
            "grid_auto_columns": null,
            "grid_auto_flow": null,
            "grid_auto_rows": null,
            "grid_column": null,
            "grid_gap": null,
            "grid_row": null,
            "grid_template_areas": null,
            "grid_template_columns": null,
            "grid_template_rows": null,
            "height": null,
            "justify_content": null,
            "justify_items": null,
            "left": null,
            "margin": null,
            "max_height": null,
            "max_width": null,
            "min_height": null,
            "min_width": null,
            "object_fit": null,
            "object_position": null,
            "order": null,
            "overflow": null,
            "overflow_x": null,
            "overflow_y": null,
            "padding": null,
            "right": null,
            "top": null,
            "visibility": null,
            "width": null
          }
        },
        "78f0201fdd234e19b64aa7177ea49370": {
          "model_module": "@jupyter-widgets/controls",
          "model_name": "DescriptionStyleModel",
          "model_module_version": "1.5.0",
          "state": {
            "_model_module": "@jupyter-widgets/controls",
            "_model_module_version": "1.5.0",
            "_model_name": "DescriptionStyleModel",
            "_view_count": null,
            "_view_module": "@jupyter-widgets/base",
            "_view_module_version": "1.2.0",
            "_view_name": "StyleView",
            "description_width": ""
          }
        },
        "1e639d894a174f5f9dd98181066e108c": {
          "model_module": "@jupyter-widgets/base",
          "model_name": "LayoutModel",
          "model_module_version": "1.2.0",
          "state": {
            "_model_module": "@jupyter-widgets/base",
            "_model_module_version": "1.2.0",
            "_model_name": "LayoutModel",
            "_view_count": null,
            "_view_module": "@jupyter-widgets/base",
            "_view_module_version": "1.2.0",
            "_view_name": "LayoutView",
            "align_content": null,
            "align_items": null,
            "align_self": null,
            "border": null,
            "bottom": null,
            "display": null,
            "flex": null,
            "flex_flow": null,
            "grid_area": null,
            "grid_auto_columns": null,
            "grid_auto_flow": null,
            "grid_auto_rows": null,
            "grid_column": null,
            "grid_gap": null,
            "grid_row": null,
            "grid_template_areas": null,
            "grid_template_columns": null,
            "grid_template_rows": null,
            "height": null,
            "justify_content": null,
            "justify_items": null,
            "left": null,
            "margin": null,
            "max_height": null,
            "max_width": null,
            "min_height": null,
            "min_width": null,
            "object_fit": null,
            "object_position": null,
            "order": null,
            "overflow": null,
            "overflow_x": null,
            "overflow_y": null,
            "padding": null,
            "right": null,
            "top": null,
            "visibility": null,
            "width": null
          }
        },
        "9d142956e93d46509a4e394964da42c1": {
          "model_module": "@jupyter-widgets/controls",
          "model_name": "ProgressStyleModel",
          "model_module_version": "1.5.0",
          "state": {
            "_model_module": "@jupyter-widgets/controls",
            "_model_module_version": "1.5.0",
            "_model_name": "ProgressStyleModel",
            "_view_count": null,
            "_view_module": "@jupyter-widgets/base",
            "_view_module_version": "1.2.0",
            "_view_name": "StyleView",
            "bar_color": null,
            "description_width": ""
          }
        },
        "0e48d5dbab8246b6a00c9997de8dd701": {
          "model_module": "@jupyter-widgets/base",
          "model_name": "LayoutModel",
          "model_module_version": "1.2.0",
          "state": {
            "_model_module": "@jupyter-widgets/base",
            "_model_module_version": "1.2.0",
            "_model_name": "LayoutModel",
            "_view_count": null,
            "_view_module": "@jupyter-widgets/base",
            "_view_module_version": "1.2.0",
            "_view_name": "LayoutView",
            "align_content": null,
            "align_items": null,
            "align_self": null,
            "border": null,
            "bottom": null,
            "display": null,
            "flex": null,
            "flex_flow": null,
            "grid_area": null,
            "grid_auto_columns": null,
            "grid_auto_flow": null,
            "grid_auto_rows": null,
            "grid_column": null,
            "grid_gap": null,
            "grid_row": null,
            "grid_template_areas": null,
            "grid_template_columns": null,
            "grid_template_rows": null,
            "height": null,
            "justify_content": null,
            "justify_items": null,
            "left": null,
            "margin": null,
            "max_height": null,
            "max_width": null,
            "min_height": null,
            "min_width": null,
            "object_fit": null,
            "object_position": null,
            "order": null,
            "overflow": null,
            "overflow_x": null,
            "overflow_y": null,
            "padding": null,
            "right": null,
            "top": null,
            "visibility": null,
            "width": null
          }
        },
        "85b3c72dd41c472e9441f97a6aec5287": {
          "model_module": "@jupyter-widgets/controls",
          "model_name": "DescriptionStyleModel",
          "model_module_version": "1.5.0",
          "state": {
            "_model_module": "@jupyter-widgets/controls",
            "_model_module_version": "1.5.0",
            "_model_name": "DescriptionStyleModel",
            "_view_count": null,
            "_view_module": "@jupyter-widgets/base",
            "_view_module_version": "1.2.0",
            "_view_name": "StyleView",
            "description_width": ""
          }
        }
      }
    },
    "accelerator": "GPU"
  },
  "cells": [
    {
      "cell_type": "code",
      "execution_count": null,
      "metadata": {
        "id": "9CLy4LADSXo3"
      },
      "outputs": [],
      "source": [
        "#!pip install rouge_score bert_score\n",
        "import nltk\n",
        "import torch\n",
        "import numpy as np\n",
        "import pandas as pd\n",
        "import matplotlib.pyplot as plt\n",
        "import seaborn as sns\n",
        "from nltk.translate.bleu_score import sentence_bleu, SmoothingFunction\n",
        "from rouge_score import rouge_scorer\n",
        "from transformers import AutoTokenizer, AutoModelForCausalLM\n",
        "from bert_score import score as bert_score_fn\n",
        "from sklearn.preprocessing import LabelEncoder\n",
        "from sklearn.metrics import (accuracy_score, precision_score, recall_score, f1_score,  confusion_matrix, classification_report)\n",
        "from transformers import GPT2LMHeadModel, GPT2TokenizerFast, Trainer, TrainingArguments\n",
        "from transformers import TextDataset, DataCollatorForLanguageModeling"
      ]
    },
    {
      "cell_type": "markdown",
      "source": [
        "#1. EvaluateModel"
      ],
      "metadata": {
        "id": "jBBe5gsLKDnp"
      }
    },
    {
      "cell_type": "markdown",
      "source": [
        "## i. Dataset Structure Instruction\n",
        "### a. Classification Model Evaluation\n",
        "dataset = {\n",
        "\n",
        "    \"prompts\": [\"\", \"\", \"\", ...], #List of the text,\n",
        "    \"labels\": [\"AI\", \"Human\", \"neutral\", ...],  # Ground-truth labels (can be int or str)\n",
        "    \"predictions\": [\"positive\", \"positive\", \"neutral\", ...]  # Predicted labels (same format as `label`)\n",
        "}\n",
        "\n",
        "We can evaluate the model as\n",
        "```\n",
        "evaluator = EvaluateModel(dataset=dataset)\n",
        "evaluator.evaluate_classification_model(average='macro',print_result)\n",
        "```\n",
        "The function already support label encoding automatically if your labels are strings.\n",
        "\n",
        "\n",
        "### b. Generative Model Evaluation\n",
        "\n",
        "```\n",
        "dataset = {\n",
        "    \"reference_texts\": [\n",
        "        [\"The cat sat on the mat.\", \"A cat is sitting on a mat.\"],\n",
        "        [\"Hello, how are you?\"]\n",
        "        # Each item is a list of reference texts\n",
        "    ],\n",
        "    \"generated_texts\": [\n",
        "        \"The cat is sitting on the mat.\",\n",
        "        \"Hi, how do you do?\"\n",
        "        # Each item is a generated hypothesis\n",
        "    ]\n",
        "}\n",
        "```\n",
        "We can evaluate the model as\n",
        "\n",
        "\n",
        "```\n",
        "evaluator = EvaluateModel(dataset=dataset)\n",
        "evaluator.evaluate_generative_model(metrics=['bleu', 'rouge', 'bertscore'], print_result=True) # Head to the functio to see more detail\n",
        "```"
      ],
      "metadata": {
        "id": "vNnRMeWujflf"
      }
    },
    {
      "cell_type": "code",
      "source": [
        "class EvaluateModel():\n",
        "  def __init__(self, dataset=None, model=None, tokenizer=None) -> None:\n",
        "      self.model = model\n",
        "      self.tokenizer = tokenizer\n",
        "      self.results = {}\n",
        "      self.device = ( \"cuda\" if torch.cuda.is_available()\n",
        "                    else \"mps\" if torch.backends.mps.is_available()\n",
        "                    else \"cpu\")\n",
        "\n",
        "      self.dataset = dataset\n",
        "\n",
        "  #Check the labels is int and encode it if it is string\n",
        "  def encode_labels(self, col):\n",
        "      try:\n",
        "          int_labels = [int(x) for x in self.dataset[col]]\n",
        "          label_names = sorted(set(int_labels))\n",
        "      except ValueError:\n",
        "          le = LabelEncoder()\n",
        "          encoded_labels = le.fit_transform(self.dataset[col])\n",
        "          int_labels = encoded_labels\n",
        "          label_names = sorted(set(encoded_labels))  # integer labels only\n",
        "\n",
        "          print(f\"The {col} labels have been encoded. Integer mapping:\")\n",
        "          for original, encoded in zip(le.classes_, le.transform(le.classes_)):\n",
        "              print(f\"{original} -> {encoded}\")\n",
        "\n",
        "      return int_labels, label_names\n",
        "\n",
        "  #Compute the BLEU score\n",
        "  def bleu_score(self, reference_texts, generated_text):\n",
        "      ref_tokens = [ref.split() for ref in reference_texts]\n",
        "      gen_tokens = generated_text.split()\n",
        "      smoothie = SmoothingFunction().method1\n",
        "      bleu = sentence_bleu(ref_tokens, gen_tokens, smoothing_function=smoothie)\n",
        "      return {'bleu': bleu}\n",
        "\n",
        "  #Compute the ROUGE score\n",
        "  def rouge_score(self, reference_texts, generated_text):\n",
        "      scorer = rouge_scorer.RougeScorer(['rouge1', 'rouge2', 'rougeL'], use_stemmer=True)\n",
        "      scores = [scorer.score(ref, generated_text) for ref in reference_texts]\n",
        "      avg_scores = {\n",
        "          k: np.mean([s[k].fmeasure for s in scores]) for k in scores[0]\n",
        "      }\n",
        "      return avg_scores\n",
        "\n",
        "  #Compute the BERTScore\n",
        "  def bert_score(self, reference_texts, generated_text, model_type_ = 'bert-base-uncased'):\n",
        "      P, R, F1 = bert_score_fn([generated_text], [reference_texts], model_type=model_type_)\n",
        "      return {\n",
        "          'bertscore_precision': P.mean().item(),\n",
        "          'bertscore_recall': R.mean().item(),\n",
        "          'bertscore_f1': F1.mean().item()\n",
        "      }\n",
        "\n",
        "  #Evaluate the clasification model\n",
        "  def evaluate_classification_model(self, average='macro', print_result=True):\n",
        "      \"\"\"\n",
        "      Evaluate a classification model using standard metrics:\n",
        "      - Accuracy, Precision, Recall, F1-score, Confusion Matrix\n",
        "\n",
        "      Args:\n",
        "          average (str): Averaging method for multi-class ('binary', 'micro', 'macro').\n",
        "          print_result (bool): Whether to print results and plot confusion matrix.\n",
        "\n",
        "      Workflow:\n",
        "          - Checks for 'label' and 'prediction' keys in dataset.\n",
        "          - Encodes non-integer labels if necessary.\n",
        "          - Computes classification metrics.\n",
        "          - Optionally prints a classification report and confusion matrix.\n",
        "      \"\"\"\n",
        "      if any(k not in self.dataset for k in [\"labels\", \"predictions\"]):\n",
        "          print(\"Please provide the dataset with 'label' and 'prediction' columns.\")\n",
        "          return\n",
        "\n",
        "      # Encode labels (handles string → int mapping if needed)\n",
        "      targets, label_names_target = self.encode_labels(\"labels\")\n",
        "      predictions, label_names_prediction = self.encode_labels(\"predictions\")\n",
        "\n",
        "      label_names = label_names_target\n",
        "      print(targets)\n",
        "      print(predictions)\n",
        "      print(label_names)\n",
        "      # Compute evaluation metrics\n",
        "      acc = accuracy_score(targets, predictions)\n",
        "      prec = precision_score(targets, predictions, average=average, zero_division=0)\n",
        "      rec = recall_score(targets, predictions, average=average, zero_division=0)\n",
        "      f1 = f1_score(targets, predictions, average=average, zero_division=0)\n",
        "      cm = confusion_matrix(targets, predictions, labels=label_names)\n",
        "\n",
        "      # Optionally print results\n",
        "      if print_result:\n",
        "          plt.figure(figsize=(6, 5))\n",
        "          sns.heatmap(cm, annot=True, fmt='d', cmap='Blues', xticklabels=label_names, yticklabels=label_names)\n",
        "          plt.xlabel('Predicted')\n",
        "          plt.ylabel('Actual')\n",
        "          plt.title('Confusion Matrix')\n",
        "          plt.show()\n",
        "\n",
        "          print(f\"Accuracy: {acc:.4f}\")\n",
        "          print(f\"F1-score: {f1:.4f}\")\n",
        "          print(f\"Recall: {rec:.4f}\")\n",
        "          print(f\"Precision: {prec:.4f}\")\n",
        "          print(\"\\nClassification Report:\")\n",
        "          print(classification_report(targets, predictions, labels=label_names, zero_division=0))\n",
        "\n",
        "      # Store results\n",
        "      self.results.update({\n",
        "          \"accuracy\": acc,\n",
        "          \"precision\": prec,\n",
        "          \"recall\": rec,\n",
        "          \"f1_score\": f1,\n",
        "          \"confusion_matrix\": cm,\n",
        "      })\n",
        "\n",
        "\n",
        "  def evaluate_generative_model(self, metrics=['bleu', 'rouge', 'bertscore'], print_result = True, bert_model='bert-base-uncased'):\n",
        "      \"\"\"\n",
        "      Evaluate a generative model using metrics like BLEU, ROUGE, and BERTScore.\n",
        "\n",
        "      Args:\n",
        "          metrics (list): List of metrics to compute. Options: 'bleu', 'rouge', 'bertscore'.\n",
        "          bert_model (str): Hugging Face model name to use for BERTScore.\n",
        "\n",
        "      Workflow:\n",
        "          - Validates that 'reference_texts' and 'generated_texts' are in the dataset.\n",
        "          - Loops over each pair of reference and generated text.\n",
        "          - Computes and stores selected metrics.\n",
        "      \"\"\"\n",
        "      if \"reference_texts\" not in self.dataset or \"generated_texts\" not in self.dataset:\n",
        "          print(\"Please provide 'reference_texts' and 'generated_texts' in the dataset.\")\n",
        "          return\n",
        "\n",
        "      refs = self.dataset['reference_texts'].copy()\n",
        "      gens = self.dataset['generated_texts'].copy()\n",
        "\n",
        "      for ref, gen in zip(refs, gens):\n",
        "          # Expect `ref` to be a list of strings, `gen` to be a single string\n",
        "          if 'bleu' in metrics:\n",
        "              self.results.update(self.bleu_score(ref, gen))\n",
        "          if 'rouge' in metrics:\n",
        "              self.results.update(self.rouge_score(ref, gen))\n",
        "          if 'bertscore' in metrics:\n",
        "              self.results.update(self.bert_score(ref, gen, bert_model))\n",
        "\n",
        "      if print_result:\n",
        "          print(\"Generative Model Evaluation Results:\")\n",
        "          for metric, score in self.results.items():\n",
        "              print(f\"{metric:20}: {score:.4f}\")"
      ],
      "metadata": {
        "id": "rWdj_tT6XWCT"
      },
      "execution_count": null,
      "outputs": []
    },
    {
      "cell_type": "markdown",
      "source": [
        "# 2. Testing stage"
      ],
      "metadata": {
        "id": "qjpPTreaZJN-"
      }
    },
    {
      "cell_type": "markdown",
      "source": [
        "## a. Testing generateive metrics without loading dataset"
      ],
      "metadata": {
        "id": "D-7XtdngZL2N"
      }
    },
    {
      "cell_type": "code",
      "source": [
        "reference = \"The quick brown fox jumps over the lazy dog\"\n",
        "generated = \"The fast brown fox jumps over a lazy dog\"\n",
        "\n",
        "evaluateModel = EvaluateModel()\n",
        "\n",
        "bert = evaluateModel.bert_score(\n",
        "    reference_texts=reference,\n",
        "    generated_text=generated,\n",
        ")\n",
        "\n",
        "bleu = evaluateModel.bleu_score(\n",
        "    reference_texts=reference,\n",
        "    generated_text=generated\n",
        ")\n",
        "\n",
        "rouge = evaluateModel.rouge_score(\n",
        "    reference_texts=reference,\n",
        "    generated_text=generated\n",
        ")\n",
        "print(bleu)\n",
        "print(rouge)\n",
        "print(bert)"
      ],
      "metadata": {
        "colab": {
          "base_uri": "https://localhost:8080/"
        },
        "id": "6xfGKazZY8gM",
        "outputId": "0a257898-3da9-4c67-a66c-de2dd898c2de"
      },
      "execution_count": null,
      "outputs": [
        {
          "output_type": "stream",
          "name": "stdout",
          "text": [
            "{'bleu': 0.023980296761827107}\n",
            "{'rouge1': np.float64(0.004651162790697674), 'rouge2': np.float64(0.0), 'rougeL': np.float64(0.004651162790697674)}\n",
            "{'bertscore_precision': 0.9204388856887817, 'bertscore_recall': 0.9204388856887817, 'bertscore_f1': 0.9204388856887817}\n"
          ]
        },
        {
          "output_type": "stream",
          "name": "stderr",
          "text": [
            "/usr/local/lib/python3.11/dist-packages/torch/nn/modules/module.py:1750: FutureWarning: `encoder_attention_mask` is deprecated and will be removed in version 4.55.0 for `BertSdpaSelfAttention.forward`.\n",
            "  return forward_call(*args, **kwargs)\n"
          ]
        }
      ]
    },
    {
      "cell_type": "markdown",
      "source": [
        "## b. Testing the classification metrics with full evaluation dataset\n"
      ],
      "metadata": {
        "id": "8oDMNNQVZ0R0"
      }
    },
    {
      "cell_type": "code",
      "source": [
        "dataset = {\n",
        "    \"prompt\": [\n",
        "        \"The quick brown fox jumps over the lazy dog.\",\n",
        "        \"Neural networks can approximate any function.\",\n",
        "        \"I had coffee this morning and read the news.\"\n",
        "    ],\n",
        "    \"label\": [\n",
        "        \"Human\",\n",
        "        \"AI\",\n",
        "        \"Human\"\n",
        "    ],\n",
        "    \"prediction\": [\n",
        "        \"AI\",\n",
        "        \"AI\",\n",
        "        \"Human\"\n",
        "    ]\n",
        "}\n",
        "\n",
        "evaluateModel = EvaluateModel(dataset=dataset)\n",
        "evaluateModel.evaluate_classification_model()"
      ],
      "metadata": {
        "colab": {
          "base_uri": "https://localhost:8080/",
          "height": 904
        },
        "id": "EZoKTcdEaT9K",
        "outputId": "53860301-04a8-45ab-bd89-80e88d428fff"
      },
      "execution_count": null,
      "outputs": [
        {
          "output_type": "stream",
          "name": "stdout",
          "text": [
            "The original labels have been encoded. Integer mapping:\n",
            "AI -> 0\n",
            "Human -> 1\n",
            "The original labels have been encoded. Integer mapping:\n",
            "AI -> 0\n",
            "Human -> 1\n",
            "[1 0 1]\n",
            "[0 0 1]\n",
            "[np.int64(0), np.int64(1)]\n"
          ]
        },
        {
          "output_type": "display_data",
          "data": {
            "text/plain": [
              "<Figure size 600x500 with 2 Axes>"
            ],
            "image/png": "[encoded data removed]"
          },
          "metadata": {}
        },
        {
          "output_type": "stream",
          "name": "stdout",
          "text": [
            "Accuracy: 0.6667\n",
            "F1-score: 0.6667\n",
            "Recall: 0.5000\n",
            "Precision: 1.0000\n",
            "\n",
            "Classification Report:\n",
            "              precision    recall  f1-score   support\n",
            "\n",
            "           0       0.50      1.00      0.67         1\n",
            "           1       1.00      0.50      0.67         2\n",
            "\n",
            "    accuracy                           0.67         3\n",
            "   macro avg       0.75      0.75      0.67         3\n",
            "weighted avg       0.83      0.67      0.67         3\n",
            "\n"
          ]
        }
      ]
    },
    {
      "cell_type": "markdown",
      "source": [
        "## c. Testing the Generative model with full dataset"
      ],
      "metadata": {
        "id": "dzOExgTHcvDd"
      }
    },
    {
      "cell_type": "code",
      "source": [
        "dataset = {\n",
        "    \"reference_texts\": [\n",
        "        \"The quick brown fox jumps over the lazy dog.\",\n",
        "        \"Neural networks can approximate any function.\",\n",
        "        \"I had coffee this morning and read the news.\"\n",
        "    ],\n",
        "    \"generated_texts\": [\n",
        "        \"The quick red fox jumps over the lazy dog.\",\n",
        "        \"Neural networks could approximate any function.\",\n",
        "        \"I have coffee this morning and read the news.\"\n",
        "    ]\n",
        "}\n",
        "\n",
        "\n",
        "evaluateModel = EvaluateModel(dataset=dataset)\n",
        "evaluateModel.evaluate_generative_model()"
      ],
      "metadata": {
        "colab": {
          "base_uri": "https://localhost:8080/"
        },
        "id": "B8i0QUd0XKdE",
        "outputId": "1f456482-5c9d-42ab-9294-d0c9574e39c9"
      },
      "execution_count": null,
      "outputs": [
        {
          "output_type": "stream",
          "name": "stdout",
          "text": [
            "Generative Model Evaluation Results:\n",
            "bleu                : 0.0240\n",
            "rouge1              : 0.0136\n",
            "rouge2              : 0.0000\n",
            "rougeL              : 0.0136\n",
            "bertscore_precision : 0.9596\n",
            "bertscore_recall    : 0.9596\n",
            "bertscore_f1        : 0.9596\n"
          ]
        }
      ]
    },
    {
      "cell_type": "markdown",
      "source": [
        "# 3. Experiment Setup for the AI Detection Model"
      ],
      "metadata": {
        "id": "9VLSZkJreMzg"
      }
    },
    {
      "cell_type": "code",
      "source": [
        "def classify_text(model, tokenizer, device, text, few_shot_prompt, max_new_tokens=10):\n",
        "    # Insert the new text into the few-shot prompt\n",
        "    prompt = few_shot_prompt.format(text)\n",
        "\n",
        "    # Tokenize and send to device\n",
        "    input_ids = tokenizer(prompt, return_tensors=\"pt\").to(device)\n",
        "    output_ids = model.generate(**input_ids, max_new_tokens=max_new_tokens)\n",
        "\n",
        "    generated_text = tokenizer.decode(output_ids[0], skip_special_tokens=True)\n",
        "    # Extract the label predicted after the last 'Label:' token\n",
        "    # For example, output may be the full prompt + \" AI\" or \" Human\"\n",
        "    label = generated_text.split(\"Label:\")[-1].strip().split()[0]\n",
        "\n",
        "    return label"
      ],
      "metadata": {
        "id": "eZ-G40um1YhZ"
      },
      "execution_count": null,
      "outputs": []
    },
    {
      "cell_type": "code",
      "source": [
        "few_shot_prompt = \"\"\"\n",
        "Decide whether the following text was written by a human or an AI.\n",
        "\n",
        "Text: \"Artificial intelligence is a powerful tool for automating tasks.\"\n",
        "Label: AI\n",
        "\n",
        "Text: \"I walked to the market this morning and bought fresh bread.\"\n",
        "Label: Human\n",
        "\n",
        "Text: \"The moon is a celestial body that orbits Earth.\"\n",
        "Label: AI\n",
        "\n",
        "Text: \"Yesterday, I enjoyed a long walk in the park.\"\n",
        "Label: Human\n",
        "\n",
        "Text: \"Machine learning models improve with more data.\"\n",
        "Label: AI\n",
        "\"\"\""
      ],
      "metadata": {
        "id": "5aAJWu7h2zZ-"
      },
      "execution_count": null,
      "outputs": []
    },
    {
      "cell_type": "code",
      "source": [
        "dataset = {\n",
        "    \"prompt\": [\n",
        "        \"The quick brown fox jumps over the lazy dog.\",\n",
        "        \"Neural networks can approximate any function.\",\n",
        "        \"I had coffee this morning and read the news.\"\n",
        "    ],\n",
        "    \"labels\": [\n",
        "        \"Human\",\n",
        "        \"AI\",\n",
        "        \"Human\"\n",
        "    ]\n",
        "}\n",
        "\n",
        "#Load the model\n",
        "device = \"cuda\" if torch.cuda.is_available() else \"cpu\"\n",
        "model = AutoModelForCausalLM.from_pretrained(\"microsoft/phi-2\", torch_dtype=torch.float16, device_map=\"auto\")\n",
        "tokenizer = AutoTokenizer.from_pretrained(\"microsoft/phi-2\")\n",
        "pred_label_ls = []\n",
        "\n",
        "#Run the model and get the label\n",
        "for i, text in enumerate(dataset[\"prompt\"]):\n",
        "    pred_label = classify_text(model, tokenizer, device, text, few_shot_prompt)\n",
        "    pred_label_ls.append(pred_label)\n",
        "    print(f\"Text: {text}\")\n",
        "    print(f\"Predicted Label: {pred_label} | Actual Label: {dataset['labels'][i]}\")\n",
        "    print()\n",
        "\n",
        "#Store the prediction to dataset\n",
        "dataset['predictions'] = pred_label_ls"
      ],
      "metadata": {
        "colab": {
          "base_uri": "https://localhost:8080/",
          "height": 257,
          "referenced_widgets": [
            "9397036efb8345aa9f535a83b85d8ae4",
            "2231a05ab9fc4444a42f745b54f5f7f7",
            "979596b2d565450b8f1c013b6849cbc0",
            "56754b314fd34af6839813cc232284a5",
            "a6ef66cf4f3c4da4b3e30e195c9f8b07",
            "332f10d19ac4410690ad34e6ebe2c051",
            "78f0201fdd234e19b64aa7177ea49370",
            "1e639d894a174f5f9dd98181066e108c",
            "9d142956e93d46509a4e394964da42c1",
            "0e48d5dbab8246b6a00c9997de8dd701",
            "85b3c72dd41c472e9441f97a6aec5287"
          ]
        },
        "id": "cRiblVh787bV",
        "outputId": "84ec4079-f779-4b95-800a-cba9e6b720f3"
      },
      "execution_count": null,
      "outputs": [
        {
          "output_type": "display_data",
          "data": {
            "text/plain": [
              "Loading checkpoint shards:   0%|          | 0/2 [00:00<?, ?it/s]"
            ],
            "application/vnd.jupyter.widget-view+json": {
              "version_major": 2,
              "version_minor": 0,
              "model_id": "9397036efb8345aa9f535a83b85d8ae4"
            }
          },
          "metadata": {}
        },
        {
          "output_type": "stream",
          "name": "stderr",
          "text": [
            "Setting `pad_token_id` to `eos_token_id`:50256 for open-end generation.\n",
            "Setting `pad_token_id` to `eos_token_id`:50256 for open-end generation.\n"
          ]
        },
        {
          "output_type": "stream",
          "name": "stdout",
          "text": [
            "Text: The quick brown fox jumps over the lazy dog.\n",
            "Predicted Label: AI | Actual Label: Human\n",
            "\n"
          ]
        },
        {
          "output_type": "stream",
          "name": "stderr",
          "text": [
            "Setting `pad_token_id` to `eos_token_id`:50256 for open-end generation.\n"
          ]
        },
        {
          "output_type": "stream",
          "name": "stdout",
          "text": [
            "Text: Neural networks can approximate any function.\n",
            "Predicted Label: AI | Actual Label: AI\n",
            "\n",
            "Text: I had coffee this morning and read the news.\n",
            "Predicted Label: AI | Actual Label: Human\n",
            "\n"
          ]
        }
      ]
    },
    {
      "cell_type": "code",
      "source": [
        "evaluateModel = EvaluateModel(dataset=dataset)\n",
        "evaluateModel.evaluate_classification_model()"
      ],
      "metadata": {
        "id": "iyw8YFg9haVW",
        "colab": {
          "base_uri": "https://localhost:8080/",
          "height": 886
        },
        "outputId": "6e8c2d5a-ac89-4ba6-de7a-26edb967bcb7"
      },
      "execution_count": null,
      "outputs": [
        {
          "output_type": "stream",
          "name": "stdout",
          "text": [
            "The labels labels have been encoded. Integer mapping:\n",
            "AI -> 0\n",
            "Human -> 1\n",
            "The predictions labels have been encoded. Integer mapping:\n",
            "AI -> 0\n",
            "[1 0 1]\n",
            "[0 0 0]\n",
            "[np.int64(0), np.int64(1)]\n"
          ]
        },
        {
          "output_type": "display_data",
          "data": {
            "text/plain": [
              "<Figure size 600x500 with 2 Axes>"
            ],
            "image/png": "[encoded data removed]"
          },
          "metadata": {}
        },
        {
          "output_type": "stream",
          "name": "stdout",
          "text": [
            "Accuracy: 0.3333\n",
            "F1-score: 0.2500\n",
            "Recall: 0.5000\n",
            "Precision: 0.1667\n",
            "\n",
            "Classification Report:\n",
            "              precision    recall  f1-score   support\n",
            "\n",
            "           0       0.33      1.00      0.50         1\n",
            "           1       0.00      0.00      0.00         2\n",
            "\n",
            "    accuracy                           0.33         3\n",
            "   macro avg       0.17      0.50      0.25         3\n",
            "weighted avg       0.11      0.33      0.17         3\n",
            "\n"
          ]
        }
      ]
    },
    {
      "cell_type": "code",
      "source": [],
      "metadata": {
        "id": "dk10ip-Pmy5G"
      },
      "execution_count": null,
      "outputs": []
    }
  ]
}