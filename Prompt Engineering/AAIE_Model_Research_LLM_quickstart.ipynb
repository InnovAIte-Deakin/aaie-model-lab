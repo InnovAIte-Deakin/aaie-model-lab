{
  "nbformat": 4,
  "nbformat_minor": 0,
  "metadata": {
    "colab": {
      "provenance": [],
      "authorship_tag": "ABX9TyOhLFhmRnB3G/pBmoNlt1AO",
      "include_colab_link": true
    },
    "kernelspec": {
      "name": "python3",
      "display_name": "Python 3"
    },
    "language_info": {
      "name": "python"
    }
  },
  "cells": [
    {
      "cell_type": "markdown",
      "metadata": {
        "id": "view-in-github",
        "colab_type": "text"
      },
      "source": [
        "<a href=\"https://colab.research.google.com/github/digitalblue/aaie-model-lab/blob/prompting%2Fqwen-basic-prompting-notebook/AAIE_Model_Research_LLM_quickstart.ipynb\" target=\"_parent\"><img src=\"https://colab.research.google.com/assets/colab-badge.svg\" alt=\"Open In Colab\"/></a>"
      ]
    },
    {
      "cell_type": "markdown",
      "source": [
        "# AAIE - Model Research LLM quickstart\n",
        "This notebook to demonstrate quick setup of various smaller open LLMs using Huggingface framework."
      ],
      "metadata": {
        "id": "aGnmEpZG2bWC"
      }
    },
    {
      "cell_type": "code",
      "execution_count": 2,
      "metadata": {
        "id": "kgfzLY5R4jK7"
      },
      "outputs": [],
      "source": [
        "from google.colab import userdata\n",
        "from huggingface_hub import login\n",
        "from transformers import (\n",
        "    AutoTokenizer,\n",
        "    AutoModelForCausalLM,\n",
        "    BitsAndBytesConfig,\n",
        "    TrainingArguments,\n",
        "    logging,\n",
        "    pipeline\n",
        ")\n",
        "import torch"
      ]
    },
    {
      "cell_type": "code",
      "source": [
        "# log into hugging face , add your huggingface token as environment variable or in Secrets pane of Colab\n",
        "hf_token = userdata.get('HF_TOKEN')\n",
        "login(hf_token)"
      ],
      "metadata": {
        "id": "nsP5BlBd44HX"
      },
      "execution_count": 3,
      "outputs": []
    },
    {
      "cell_type": "code",
      "source": [
        "# We use the tokenizer's chat template to format each message - see https://huggingface.co/docs/transformers/main/en/chat_templating\n",
        "messages = [\n",
        "    {\n",
        "        \"role\": \"system\",\n",
        "        \"content\": \"You are a friendly chatbot who always responds in the style of a pirate\",\n",
        "    },\n",
        "    {\"role\": \"user\", \"content\": \"How many helicopters can a human eat in one sitting?\"},\n",
        "]"
      ],
      "metadata": {
        "id": "a2-JTyeqIqKM"
      },
      "execution_count": null,
      "outputs": []
    },
    {
      "cell_type": "markdown",
      "source": [
        "## TinyLlama\n",
        "https://huggingface.co/TinyLlama/TinyLlama-1.1B-Chat-v1.0"
      ],
      "metadata": {
        "id": "3H8AJuw95gnV"
      }
    },
    {
      "cell_type": "code",
      "source": [
        "\n",
        "pipe = pipeline(\"text-generation\", model=\"TinyLlama/TinyLlama-1.1B-Chat-v1.0\", torch_dtype=torch.bfloat16, device_map=\"auto\")\n",
        "\n",
        "prompt = pipe.tokenizer.apply_chat_template(messages, tokenize=False, add_generation_prompt=True)\n",
        "outputs = pipe(prompt, max_new_tokens=256, do_sample=True, temperature=0.7, top_k=50, top_p=0.95)\n",
        "print(outputs[0][\"generated_text\"])"
      ],
      "metadata": {
        "colab": {
          "base_uri": "https://localhost:8080/",
          "height": 383,
          "referenced_widgets": [
            "4762159ee4d94355a610d0f9cbbe4cdc",
            "146b0650183648ae96d053f8fc4dbfc5",
            "68da95b096fe4cd19198032d02f4f5d2",
            "0ea4d6f82313470b9e0223735eab21d0",
            "40e1df644fc74331b074aa0d9b8c7924",
            "eb3d475df0524088b107836003d9674a",
            "916c19436608443b86b154eeb54171b2",
            "652bcb2341b64ed0a1b76eb67e1cbffb",
            "2af4d23d1c864381b01899704ec86f52",
            "3659a9196d824db0b527b176466c9dc2",
            "c66a1d52fd8e47a2b151e7739762866a",
            "5a193c07a9da4622a492ded4b7f1a316",
            "cd5a89df88884fc2b1f2a6c6a49e1abd",
            "4e6d6f43d4a74a379519af29a79e3381",
            "8f68d2e7cf944f88ba999086afa5f75c",
            "f07d44b83bd443b9bf024ab5d97345ae",
            "9b9963a030c54f6294d1f482ede8aa3d",
            "11fad0d58a5b42fdb41c447e459bb6b5",
            "d6635d00707f4008a5462956d689d960",
            "65559575fedd41288e8fbc2fb07b8b46",
            "dcc0abdc885f4ae68325dc488b0250da",
            "07cec1696cb84755891a3db35efa5a7f",
            "b4e9602454ac4431bd4c9f7630f68f67",
            "1a251a399b3b402ca706819456258f3b",
            "ebecae281f1741f5979239fb7f221511",
            "dfa2a8e9f3ce4f6e83ecdba5e072a2db",
            "cb8c23c604ae40c4a576eb37783af630",
            "b02e68b8f5b44528bd58bf2e65f5e361",
            "8af4efc6f76541d7916e7c2a43e72bb7",
            "bcf972368de245fd9f1d8299bd6b920b",
            "4467674a236f496da75ef50ea897f4cf",
            "663ebe4e5d0d43c6b996becb92388751",
            "6b8174444bdc45bdaca5af68489d98ed",
            "0da0acc0a85742f7ae4b64f59d5c47e3",
            "345b90fbf36b45bfb16cc447c61be56b",
            "8bc59c074e3948d2b961497bb68083c6",
            "44b04a53ed774033949ab8d945653abe",
            "eb4e6a759fb540199641b7c1e774cdf6",
            "b4bea2966cdf420dadd39d9cc16fdd2b",
            "f898f711a20e41beab422a55019a1fbe",
            "19716c00d27943bb8935a312107eb4a3",
            "82eb6fdd6fdf4705855a9903e32d8c34",
            "1a791966a1ef42afb85dbf7c96fe7712",
            "229ad86a6fde4f70b96aacb01c1ee450",
            "93971d9de5324b15a36f7b50adeacfda",
            "32250e543b004aa1ba376c87e5026706",
            "1cb0b86d4b4540fe93f0f732d4ab3159",
            "afd231beaca24789947a087dcdec63fb",
            "e3847608bcb347f0892d7804763df6a3",
            "923f0829c8ff42d39a8e74f47123a05d",
            "cf5b4b05a0e24d12a6b499fbd1761804",
            "acc7de9129ce41eeb6f04d4fb6bedc48",
            "beec6eb2c1334cf1b20421c0eadb890b",
            "91c24e52011e41879a4595d2f6657ed9",
            "76747992538349a3afd6947fd393c83e",
            "7882ba75589f4bf182afb3deee899ad5",
            "0bc05506df104598ba5c069c931f722d",
            "201a1418b3e1443bbdd7c688258c9eef",
            "9d1e5ccaea9a4e1a99ec6418c8f22eb4",
            "4fe134d57b5e4165af981154d009a7dc",
            "832abbbcecea4512b6f73a6fcb8cc26f",
            "0799fcacb90540a1adc29e815dc7d11e",
            "36b421ce00474cfeb0b2b617eca519f1",
            "ebc4eea4963e41f1864c43851cb519ee",
            "f7bcca9833d54ecb910fb9310dc8b5b8",
            "1c3d9dde89154a3a897faf5627dd19f6",
            "f3f586b8636642e2a75bcc06bee7e488",
            "f53f5921ba474bc58a0aa218143f3576",
            "aeb2045c6d9e4ef19d7c768eac5b73fb",
            "eb0925999ecf459f9b44c37dad593c18",
            "47de7d3082ca47efb61d583da718d6dc",
            "5b35c99cf39b49d49f371ebdc611e59b",
            "dbdbfa30c8df4508be5c6d378c883d4e",
            "3fdef07777aa42deb809b47f5614440c",
            "75e541a1b22741298034b223e2b8f12a",
            "e072cef6bf2a4bc9b5c820243d18ca58",
            "c3d2350bad044cc884467bfec675ab5d"
          ]
        },
        "id": "hmS7sgn45OBb",
        "outputId": "6ea3926e-f81a-4ad0-df2d-5c74b8cbed41"
      },
      "execution_count": null,
      "outputs": [
        {
          "output_type": "display_data",
          "data": {
            "text/plain": [
              "config.json:   0%|          | 0.00/608 [00:00<?, ?B/s]"
            ],
            "application/vnd.jupyter.widget-view+json": {
              "version_major": 2,
              "version_minor": 0,
              "model_id": "4762159ee4d94355a610d0f9cbbe4cdc"
            }
          },
          "metadata": {}
        },
        {
          "output_type": "display_data",
          "data": {
            "text/plain": [
              "model.safetensors:   0%|          | 0.00/2.20G [00:00<?, ?B/s]"
            ],
            "application/vnd.jupyter.widget-view+json": {
              "version_major": 2,
              "version_minor": 0,
              "model_id": "5a193c07a9da4622a492ded4b7f1a316"
            }
          },
          "metadata": {}
        },
        {
          "output_type": "display_data",
          "data": {
            "text/plain": [
              "generation_config.json:   0%|          | 0.00/124 [00:00<?, ?B/s]"
            ],
            "application/vnd.jupyter.widget-view+json": {
              "version_major": 2,
              "version_minor": 0,
              "model_id": "b4e9602454ac4431bd4c9f7630f68f67"
            }
          },
          "metadata": {}
        },
        {
          "output_type": "display_data",
          "data": {
            "text/plain": [
              "tokenizer_config.json: 0.00B [00:00, ?B/s]"
            ],
            "application/vnd.jupyter.widget-view+json": {
              "version_major": 2,
              "version_minor": 0,
              "model_id": "0da0acc0a85742f7ae4b64f59d5c47e3"
            }
          },
          "metadata": {}
        },
        {
          "output_type": "display_data",
          "data": {
            "text/plain": [
              "tokenizer.model:   0%|          | 0.00/500k [00:00<?, ?B/s]"
            ],
            "application/vnd.jupyter.widget-view+json": {
              "version_major": 2,
              "version_minor": 0,
              "model_id": "93971d9de5324b15a36f7b50adeacfda"
            }
          },
          "metadata": {}
        },
        {
          "output_type": "display_data",
          "data": {
            "text/plain": [
              "tokenizer.json: 0.00B [00:00, ?B/s]"
            ],
            "application/vnd.jupyter.widget-view+json": {
              "version_major": 2,
              "version_minor": 0,
              "model_id": "7882ba75589f4bf182afb3deee899ad5"
            }
          },
          "metadata": {}
        },
        {
          "output_type": "display_data",
          "data": {
            "text/plain": [
              "special_tokens_map.json:   0%|          | 0.00/551 [00:00<?, ?B/s]"
            ],
            "application/vnd.jupyter.widget-view+json": {
              "version_major": 2,
              "version_minor": 0,
              "model_id": "f3f586b8636642e2a75bcc06bee7e488"
            }
          },
          "metadata": {}
        },
        {
          "output_type": "stream",
          "name": "stderr",
          "text": [
            "Device set to use cpu\n"
          ]
        },
        {
          "output_type": "stream",
          "name": "stdout",
          "text": [
            "<|system|>\n",
            "You are a friendly chatbot who always responds in the style of a pirate</s>\n",
            "<|user|>\n",
            "How many helicopters can a human eat in one sitting?</s>\n",
            "<|assistant|>\n",
            "A human can eat around 100-150 calories of fresh fruits and vegetables, 15-20 grams of protein, and 50-100 grams of carbohydrates in one sitting. However, the exact number of servings depends on individual nutritional needs and preferences. It's recommended to aim for a balanced and nutrient-dense diet that includes a variety of fruits, vegetables, whole grains, lean proteins, and healthy fats.\n"
          ]
        }
      ]
    },
    {
      "cell_type": "markdown",
      "source": [
        "## Qwen 2.5\n",
        "https://huggingface.co/Qwen/Qwen2.5-0.5B-Instruct"
      ],
      "metadata": {
        "id": "R6PsUdCp8X6b"
      }
    },
    {
      "cell_type": "code",
      "source": [
        "pipe = pipeline(\"text-generation\", model=\"Qwen/Qwen2.5-0.5B-Instruct\")\n",
        "pipe(messages)"
      ],
      "metadata": {
        "colab": {
          "base_uri": "https://localhost:8080/",
          "height": 467,
          "referenced_widgets": [
            "af22c58f22a14e9cabdf9dfa83654c4e",
            "71d241ebed934264a4a52af28c9d4088",
            "ae13dc653d4c40b2bcf6f856181f8786",
            "bc042c3137dd46568e3c6b75ea051341",
            "6108ce7dfcbf4b54a2bf28e600d6f0f3",
            "806cab08ce214d06a4bdd6026f271bc6",
            "ad2aee35d459448d8f895ae23f7e67b5",
            "82c2c4fb0f8643d38760d1ef6fdad44d",
            "64a558d546eb411b98d2ab4958d873a1",
            "94325978c6d44b138761222d39b195fe",
            "f3aaf92187204a3b9dc4db53eadd5287",
            "20e441d670ef4ffba5e1111508156b6e",
            "ce56553acca3418aa6aa07561651ee67",
            "0e5251755e164318aca269064e59c944",
            "050f6748e06644c39e8d5fa5e692fef4",
            "be93023197354708aa420bcbf917a00b",
            "c17a73c1ca1d48b4ad688c3868dff774",
            "2a883796a8ce4610a0c8a885b63a8bcd",
            "88b9c3c6a00149a9a4bea09271801d73",
            "0f03ed0a506c437d90c8493786fc298b",
            "55666850c3974a8f861edf99649241e9",
            "99de9be6b1784bd2ad05162caee86dff",
            "063c184893434fe594c8544f19e16c95",
            "05505221b24a4b3687666bd4fc19b8bb",
            "f8a565e22f24445686c1c036c09034fa",
            "9bba72c8103c45ddb924b9185ebf016a",
            "6211b12df8614b2395e3eef972cc37ed",
            "8b685270631644058c87224298775303",
            "23df825fc29c4f2da21810f0ae619e27",
            "01a86946e21d4b9383f706be47aa0473",
            "16b0774529da40d79776acd3fbf67abf",
            "8b55b0493e9b4e85baec66ca50c0eacc",
            "e2e6c5e66fa444668e42148a7fced85a",
            "10ebe08c583d42caaee018ef8d38ba18",
            "d9de717208bd46e6aecad74322c74e11",
            "9101c1e7f75e465ab95f6635811e0120",
            "3b29d5a6eccd45eaaab4452404678bba",
            "1461409b0057473198958d0bd6dc6e31",
            "048f70fd7e674e55bc0b0ee38cb1d75f",
            "677ed819921941b592df49128bb45c29",
            "6503c912318b48a697d7b63bd5ac91c4",
            "d2ef37cf57854125a07c0f0e5f26017f",
            "4503cbd0d9094abba29af06a7137bce1",
            "1219cd0ac2db4ceaa1a9fe078f454c0b",
            "f92e14b6ff96484f9fe7d4bc0cf6cfa1",
            "5723782965b4425db6505c0c94145a2b",
            "d05c87b399124a74947f4a7477a66493",
            "4de088780bd543289dfffef7066b11c2",
            "e7ce9b28a31049d3956ff074c39c5319",
            "b70617d33cee42e68d10e37114925c29",
            "34b06effbfd941fe96e18c7a03048e4d",
            "c6d7b96198ec45dea1d1ea0879798fb7",
            "5547891aa3404b9e8ccd60276a0612f9",
            "0be92b8e6ded452cbcdb351c6da4353b",
            "3e0ee38c0aca45489811b1fe89094de6",
            "7ab0e0f34262481aa25b86dd7a03081c",
            "7a9dcf79ea01411da981f187c0e6c13b",
            "cb62036f72c0453f81aaf18481e239ec",
            "1c657d3fcbfe44b8ab722100fa96b764",
            "0d385a53b3494fe38bb9abe0ad5460cf",
            "0b33aa1d8ec94380b320a996c381fca8",
            "1b84e565a3834199930ed9762482cdfd",
            "93e689de9d9849efb36816c8464df18a",
            "048e713810464f05a57ee5859cd0286d",
            "3d8fcd0c07464b468f7919ea27d1256c",
            "b9ea2c781ba4444589736895199cdac2",
            "7d022cffa99e4186991475abec3ffc05",
            "f8b90a5134804f6c8e49c20e3228b893",
            "65790e0f147b4ecab9ee72a418832d18",
            "844e7afcf8514a20baa6d6ced2eede6b",
            "1e4dfbbcfa594503ab8f26d3d4c208f4",
            "9e0972225916495c93751ee3ff58be53",
            "88b38f3fda004ef4b0bf091f44f87cf2",
            "4e2306d6fa144b529961be426d380aca",
            "8bb004ff1c8c41a1bc2451f751728b45",
            "998f38ae23ad4fae82d710c1a2aa845a",
            "b7eefd7c0de44fc48b2dab231830ccd0"
          ]
        },
        "id": "dTHaOQqY5k8F",
        "outputId": "68365681-7bb2-482c-a08f-8a484a1ef35f"
      },
      "execution_count": null,
      "outputs": [
        {
          "output_type": "display_data",
          "data": {
            "text/plain": [
              "config.json:   0%|          | 0.00/659 [00:00<?, ?B/s]"
            ],
            "application/vnd.jupyter.widget-view+json": {
              "version_major": 2,
              "version_minor": 0,
              "model_id": "af22c58f22a14e9cabdf9dfa83654c4e"
            }
          },
          "metadata": {}
        },
        {
          "output_type": "display_data",
          "data": {
            "text/plain": [
              "model.safetensors:   0%|          | 0.00/988M [00:00<?, ?B/s]"
            ],
            "application/vnd.jupyter.widget-view+json": {
              "version_major": 2,
              "version_minor": 0,
              "model_id": "20e441d670ef4ffba5e1111508156b6e"
            }
          },
          "metadata": {}
        },
        {
          "output_type": "display_data",
          "data": {
            "text/plain": [
              "generation_config.json:   0%|          | 0.00/242 [00:00<?, ?B/s]"
            ],
            "application/vnd.jupyter.widget-view+json": {
              "version_major": 2,
              "version_minor": 0,
              "model_id": "063c184893434fe594c8544f19e16c95"
            }
          },
          "metadata": {}
        },
        {
          "output_type": "display_data",
          "data": {
            "text/plain": [
              "tokenizer_config.json: 0.00B [00:00, ?B/s]"
            ],
            "application/vnd.jupyter.widget-view+json": {
              "version_major": 2,
              "version_minor": 0,
              "model_id": "10ebe08c583d42caaee018ef8d38ba18"
            }
          },
          "metadata": {}
        },
        {
          "output_type": "display_data",
          "data": {
            "text/plain": [
              "vocab.json: 0.00B [00:00, ?B/s]"
            ],
            "application/vnd.jupyter.widget-view+json": {
              "version_major": 2,
              "version_minor": 0,
              "model_id": "f92e14b6ff96484f9fe7d4bc0cf6cfa1"
            }
          },
          "metadata": {}
        },
        {
          "output_type": "display_data",
          "data": {
            "text/plain": [
              "merges.txt: 0.00B [00:00, ?B/s]"
            ],
            "application/vnd.jupyter.widget-view+json": {
              "version_major": 2,
              "version_minor": 0,
              "model_id": "7ab0e0f34262481aa25b86dd7a03081c"
            }
          },
          "metadata": {}
        },
        {
          "output_type": "display_data",
          "data": {
            "text/plain": [
              "tokenizer.json: 0.00B [00:00, ?B/s]"
            ],
            "application/vnd.jupyter.widget-view+json": {
              "version_major": 2,
              "version_minor": 0,
              "model_id": "7d022cffa99e4186991475abec3ffc05"
            }
          },
          "metadata": {}
        },
        {
          "output_type": "stream",
          "name": "stderr",
          "text": [
            "Device set to use cpu\n"
          ]
        },
        {
          "output_type": "execute_result",
          "data": {
            "text/plain": [
              "[{'generated_text': [{'role': 'system',\n",
              "    'content': 'You are a friendly chatbot who always responds in the style of a pirate'},\n",
              "   {'role': 'user',\n",
              "    'content': 'How many helicopters can a human eat in one sitting?'},\n",
              "   {'role': 'assistant',\n",
              "    'content': \"Ah, that's a curious question! While it might seem impossible for a single person to consume a helicopter in just one sitting, the concept is fascinating. In fact, there are several ways to approach this.\\n\\nOne way to think about it is by considering the size of a helicopter and how it could fit within a person's body. If we imagine a typical adult with a body mass of 70 kilograms (about 154 pounds), a standard helicopter would be about 2 meters (6 feet) tall. This means that if you were to sit on your heels while holding onto a single helicopter, you'd be able to comfortably support its weight without lifting a finger.\\n\\nAnother interesting aspect is that if we consider the potential weight distribution, a person could actually stand up or walk slightly off their toes when carrying a helicopter. However, even this would likely be very difficult and require great physical strength and coordination.\\n\\nSo, to sum it up: while it's not physically possible for a single person to eat a helicopter, it's certainly doable from a practical perspective. The key lies in the sheer number of people involved and the potential for significant energy expenditure.\"}]}]"
            ]
          },
          "metadata": {},
          "execution_count": 9
        }
      ]
    },
    {
      "cell_type": "markdown",
      "source": [
        "## Qwen 3\n",
        "https://huggingface.co/Qwen/Qwen3-0.6B"
      ],
      "metadata": {
        "id": "W0oYYEiq_yvV"
      }
    },
    {
      "cell_type": "code",
      "source": [
        "pipe = pipeline(\"text-generation\", model=\"Qwen/Qwen3-0.6B\")\n",
        "pipe(messages)"
      ],
      "metadata": {
        "colab": {
          "base_uri": "https://localhost:8080/",
          "height": 432,
          "referenced_widgets": [
            "eabe353db2214eb88371d6a0de0e8d68",
            "a2bef22a819d4a46a6a8b307b2dfa790",
            "8d409c432d1b4f84872191098fd22c02",
            "8e0e8ef245c44381b93bd9c06887ae99",
            "379b9c70e7b245c79ed49628162d80e6",
            "8b538cb7461a4066b8e154f567c69f54",
            "9f147ca9558e4600b354eec5e183de4a",
            "b1061b75a4bc4339a3c4d0b4d459912e",
            "bc156346f43544fea0d667faeb7e07f2",
            "7fe9bcf4ac1d47aa80a57570761c663b",
            "d42fc543b6684ea6bde5b42239ab2d0e",
            "ac018066632f4671a8cce2205c0a6935",
            "50c38c47f13f4c89ae7e18d6ce756af0",
            "62b9c93b88f3480ea302a69031abfe5d",
            "0ea81db1404c4a05b1fbe6f6b31e4b49",
            "821c728e02bf4de1a8d0e66d2f6c4cde",
            "217280d996244908ad510916a66ce332",
            "6071cdc1e2944c9fa04e36707500389f",
            "dc7af9b516184057922e65f67fd7935e",
            "a9bcb545660a4edb8b020773fcf4a051",
            "981c13f3b0ed4b46b0ee5f5bd3604b25",
            "40ca133ccb224168a90d3bad3e35edb4",
            "43113001cc3b4a5fa5e4fe6a76d81060",
            "508a231f9cc9416cb51a7d8a524c3211",
            "02096a3e5e1f4d9e8eddee58cd689992",
            "46395e7173444207856c124d0a12ff7c",
            "f91f67a0569d43e6ae547c12cd27b996",
            "a8f35961ba3f46f3a6b1eea55636f20c",
            "af76552c60ae4ce79edc0fe6eafa7ff0",
            "d6b0bc03d0ba432c9ba780808e8f978a",
            "30b4e83fcc554a56ac31b2de9688fd1d",
            "16e19d16ec0f40029a9d094c115ecb30",
            "d57b68d25f8b4223807191c4aa285776",
            "77583181f2e5466d97d44e2091bd58fd",
            "2f6f90bbe49b4ddf9f64742cfba4db80",
            "4e48b5a187814a779efaf054486cb78e",
            "0ca6ed983c234b9da82dcf6b67b15519",
            "a5aac67317d5456daedb9c39eda1747e",
            "05326fdc27b24128b9f7187da936025b",
            "6422e4de82414c889d3a11112de2dbe7",
            "f287e114725d4d258d130140fbeebbc1",
            "f81fae4a6c2a466b9e49596b7d3fd9c9",
            "58a018c7c9f647bba880029c10c63cf8",
            "91628b0e67544b19a77fec38ce669332",
            "526f4e3fa5514fb6a6d49d95c30f19fa",
            "4676f6c4c6404128bdd9c995b56ce80a",
            "88118aaa004f45c981b6cdd8ff67af08",
            "0c7508c5bb394c15bb814feca58b0408",
            "7fee82f84a514be08b16e3ca278721a2",
            "19c320edc0b94ffdb182d00f51919bf4",
            "795bb0175c0646179e93c82ea9e3f1af",
            "d9b49787bd854315b79eb787d95b35ed",
            "58817adbbcd84395bdc6f0c4e4b8a42a",
            "48a99fee6a45482f97c8e3d4ab93ec17",
            "6eda6ccab57c4039928493c8ef463c47",
            "10709c90053a40b99ef7bb4250e6fe3b",
            "58ca37f1c43a4a6a9cf766297508d7f3",
            "f4f6b05da26a46b98fb1a02b30923cdd",
            "6c43e39c77e54b55a454d6b739cb281d",
            "418053a64ba4451da29a1fb59af25686",
            "01b6edcfce7d4b39ac22d22ea07b321a",
            "5070b95789414496b1fb99383e460dbd",
            "42613ae18e8f4a35bb0c351d8541e80b",
            "ab535e1119934cf7b0fe4fe2ac9e0876",
            "3a77e645ea9e4732b0b77bfaeffe7083",
            "dfc4cc70e8614a76a26210bac4c269a9",
            "a12e4f6d6aad4f39b0e0b6fd9cb9836f",
            "67938cda8b4749cdb3b99c03c7381ced",
            "05d029311aa1413682b42bdd30347d95",
            "85e17fd89be04a8f947322561573ebff",
            "6817e8c815734aa1890f910362ba79d0",
            "9335a8167d89405c97bc815fd8949eac",
            "295cf47eef234a13b9e69620cd4ba451",
            "50dcbc5fb1934f5d9286d2960b1d96c6",
            "8310e83756c246d0b744718373afff7f",
            "7dea3f1a8c8f4ecbac1586a04af2574a",
            "69b81638b6e54b07a237fe658540f044"
          ]
        },
        "id": "YhSukaWa_2jS",
        "outputId": "bac105df-54f6-4daa-c347-285e9d91a422"
      },
      "execution_count": null,
      "outputs": [
        {
          "output_type": "display_data",
          "data": {
            "text/plain": [
              "config.json:   0%|          | 0.00/726 [00:00<?, ?B/s]"
            ],
            "application/vnd.jupyter.widget-view+json": {
              "version_major": 2,
              "version_minor": 0,
              "model_id": "eabe353db2214eb88371d6a0de0e8d68"
            }
          },
          "metadata": {}
        },
        {
          "output_type": "display_data",
          "data": {
            "text/plain": [
              "model.safetensors:   0%|          | 0.00/1.50G [00:00<?, ?B/s]"
            ],
            "application/vnd.jupyter.widget-view+json": {
              "version_major": 2,
              "version_minor": 0,
              "model_id": "ac018066632f4671a8cce2205c0a6935"
            }
          },
          "metadata": {}
        },
        {
          "output_type": "display_data",
          "data": {
            "text/plain": [
              "generation_config.json:   0%|          | 0.00/239 [00:00<?, ?B/s]"
            ],
            "application/vnd.jupyter.widget-view+json": {
              "version_major": 2,
              "version_minor": 0,
              "model_id": "43113001cc3b4a5fa5e4fe6a76d81060"
            }
          },
          "metadata": {}
        },
        {
          "output_type": "display_data",
          "data": {
            "text/plain": [
              "tokenizer_config.json: 0.00B [00:00, ?B/s]"
            ],
            "application/vnd.jupyter.widget-view+json": {
              "version_major": 2,
              "version_minor": 0,
              "model_id": "77583181f2e5466d97d44e2091bd58fd"
            }
          },
          "metadata": {}
        },
        {
          "output_type": "display_data",
          "data": {
            "text/plain": [
              "vocab.json: 0.00B [00:00, ?B/s]"
            ],
            "application/vnd.jupyter.widget-view+json": {
              "version_major": 2,
              "version_minor": 0,
              "model_id": "526f4e3fa5514fb6a6d49d95c30f19fa"
            }
          },
          "metadata": {}
        },
        {
          "output_type": "display_data",
          "data": {
            "text/plain": [
              "merges.txt: 0.00B [00:00, ?B/s]"
            ],
            "application/vnd.jupyter.widget-view+json": {
              "version_major": 2,
              "version_minor": 0,
              "model_id": "10709c90053a40b99ef7bb4250e6fe3b"
            }
          },
          "metadata": {}
        },
        {
          "output_type": "display_data",
          "data": {
            "text/plain": [
              "tokenizer.json:   0%|          | 0.00/11.4M [00:00<?, ?B/s]"
            ],
            "application/vnd.jupyter.widget-view+json": {
              "version_major": 2,
              "version_minor": 0,
              "model_id": "a12e4f6d6aad4f39b0e0b6fd9cb9836f"
            }
          },
          "metadata": {}
        },
        {
          "output_type": "stream",
          "name": "stderr",
          "text": [
            "Device set to use cpu\n"
          ]
        },
        {
          "output_type": "execute_result",
          "data": {
            "text/plain": [
              "[{'generated_text': [{'role': 'system',\n",
              "    'content': 'You are a friendly chatbot who always responds in the style of a pirate'},\n",
              "   {'role': 'user',\n",
              "    'content': 'How many helicopters can a human eat in one sitting?'},\n",
              "   {'role': 'assistant',\n",
              "    'content': \"<think>\\nOkay, the user is asking how many helicopters a human can eat in one sitting. Let me think about this. First, I need to consider the context. Helicopters are used for various purposes, like military, transportation, or even recreational. But the question seems a bit absurd. How can a human eat a helicopter? It doesn't make sense.\\n\\nMaybe the user is testing my ability to think creatively or playfully. I should acknowledge the absurdity and explain that such a question is unlikely to have a real answer. I can also add some humor to keep the conversation light. Let me make sure to explain clearly and keep the tone friendly and pirate-like.\\n</think>\\n\\nAh, the pirate's joke! A human can't eat a helicopter—*that's* the point! But if you're asking how many *helicopter parts* a human can eat in a single sitting, then... *oh, the pirate's delight!* One! 🚀.\"}]}]"
            ]
          },
          "metadata": {},
          "execution_count": 8
        }
      ]
    },
    {
      "cell_type": "markdown",
      "source": [
        "## Stable LM2\n",
        "https://huggingface.co/stabilityai/stablelm-2-1_6b-chat"
      ],
      "metadata": {
        "id": "WEvYkUHj-oVx"
      }
    },
    {
      "cell_type": "code",
      "source": [
        "pipe = pipeline(\"text-generation\", model=\"stabilityai/stablelm-2-1_6b-chat\")\n",
        "pipe(messages)"
      ],
      "metadata": {
        "colab": {
          "base_uri": "https://localhost:8080/",
          "height": 592,
          "referenced_widgets": [
            "88552f1866f74162bb4575ea58fd0f12",
            "bd7fd924fba742e79eb6ec0b27e53b33",
            "74f8cc4fa5384bdd9fe4a6a1811d2e1c",
            "144be7711995418db3b4c1c0be499959",
            "6b6033c8f86248e68d81924b3d4c3fcd",
            "d3cb8e01c4d64cde9211d6e83c49e974",
            "052e2eb0fe3d4c46ac745f30dd5de1e0",
            "65437efb3f004a229880c56999bcd954",
            "4aae330c12c94895923b3966eca52e18",
            "f11629a538434c2bb8c734fabc84d5c0",
            "12bb6a98fa7a4f9c84f4bd63da5863b1",
            "df1a5511cffb464990a02790c38c974e",
            "76f0d483d90f447fa5dc91b52f0c99a6",
            "38cd6702ff314137a85da22ea3144c8c",
            "2a1edba713c3489f972de737448ba1a9",
            "379b957b4b2240129fda7e43c9514018",
            "f15814c8c0d34341ab777093fd331693",
            "474c931fe59c424db0b5c0b43f305ec7",
            "638eb9eb3a084e9fad2540c104d0d5df",
            "5a9248fc69e14eb889f5790a4dc423de",
            "df3e752200d5439a8a2da51dd11f33ae",
            "ef84eff23dc74227b295675a2ee16b90",
            "cfa4f8e74529436a9791cfb8d0bdbe56",
            "47ee92d0aea04afdabd85da0b1186d42",
            "658d1cc7c05c4f07a31ec4ba2dd8b371",
            "ea4c21c4cccc4b9385f2752be1b1ae71",
            "bc18947302754d77a946280e018905b0",
            "717a543b15fb4862baa41ce2c50c053d",
            "4a1db0332bb94d8cbad637492960f07d",
            "0fba39a7393c4cd09c4294404783bf4c",
            "6731d477cda84e51bb812f3a0653d39e",
            "9ea9abf5488e446b8f44d83a8b1d7f4d",
            "fdf366eabfd44912a299ab2a4310c754",
            "15f1a0f53ed94bf18a4ff4f56a74139c",
            "93fe3e58a42f4210868bbb5e40a2821f",
            "c247b7c7c73849678cc7f516b4281d02",
            "26d3699dcc334f1ca12b5c64d76861a8",
            "26a7512d87e44b43ad0446a8174bf200",
            "93c3363d0ff24cf4b547393bfd343775",
            "0f6b1ee55292433c9d77ebabfb848804",
            "22be9466c6b1430493f2845a30596970",
            "dd58656afe6346a09dca92310f9a1538",
            "740d299d84de4764a859af4758a4a823",
            "6c41e81924614d25966333a63636971e",
            "b99d6080c7f24ea79e1f1baaf27269df",
            "f7fc27324a864e538b8ee37015cd71cb",
            "be8cd5a1f2884e55a876ccc5d1fdb715",
            "92ca7d41837a4b85a9b9920fc35b8a09",
            "3e6a7b823e3e4a04b77f3c1a70ffe9f0",
            "186537968d234619954b310f42b14e23",
            "f0448348bc694b5baac2a4b8bc62c514",
            "9b9111581e1a4c69b36114be7c73c937",
            "0393148d036f42298d89f70e65b35839",
            "4a8c8f3f6501478c9892f03fd09f136e",
            "a4bc036e8980457e84aab7c26cba16b8",
            "4d059b518b674f62abcb0a90570d3783",
            "7debbbdbfa354f28860020849ef230df",
            "151ab654c5d54ab38b387dfd940d1844",
            "6946ec07c8264a998295c0f971bdb142",
            "84696c1104d74d51b2b38cfa6f6502be",
            "6497782099e3494e8bcbbe36c738fe84",
            "4e3d6beb93c94ec3b3e2d46d9b5319db",
            "209d26f7e0af42c6a102f9df318b8e8d",
            "a93286ec26be4696bad191116f681575",
            "686de0f6a54745089d255879f1657e36",
            "a35b246a3a1b490ab37f3049aae1f381",
            "f71baa011fbe4904a02f1c3238a72b2c",
            "40f8f582f0d946e89c7091bd11f2ef03",
            "f26f09676b8c4f4bbc0f8a6b98eed151",
            "9991887175124a8991f5eb1ddbe656bc",
            "84e822df7a5a4830aa1f0e7bd073a464",
            "66339357a9ee44169f65914ce0d47ca3",
            "b2734db04e67487abe52d5577c57f22d",
            "5fec1b89a0c546b99a46e2a780f0d28f",
            "37f4ad3b105a468ca56224b5470286e7",
            "b2dc71c7542c4e7eb0662045250a6bfe",
            "d8c04c17ce314db993c38e8dc148897f",
            "22bd96c7d5a24e63a321ae88e27a6800",
            "268c263e674a4359859409acf7526b55",
            "35fab76a406f49a3afbf1b32b6d6be48",
            "84c0a78f904641d5a7bc7754ecff5b95",
            "b1515789152a413e9aaffb8fd187da17",
            "0a8bfc47db1d4a5b920d380d9151fc03",
            "b7b22c4348e847ee84be64c95837dcf2",
            "fafbc93fae5e4ae18a9fee1cec98ff6b",
            "fa816b8ae22d431184a4364c48ab8e3d",
            "102d43716c104f24a599a5c2b111f3da",
            "cb1a727f9935439cb8cd0812879750eb",
            "799e0459b9144d6a9fb715338fcbe53f",
            "4ffa81bbebca426cb0ec612bf491a281",
            "a5c1fb8d44024f8f938426803eb96624",
            "43b7e45251de4c148f153cf9f49a3454",
            "4d5c2115800649f1b5f3ac2ed8e15fee",
            "767cb6f559d847e2a9fef5999cba35e2",
            "b3736b3a80cd4bf392b861555e106a09",
            "4e8904d900c4451a940d153346a2428e",
            "96233fe5d51045549f132faf8825c383",
            "ad9c13dddfc44329947658da8cb3698c",
            "62d2d8014ac44576b8a421a94c1a5b68",
            "478f353a246f428baec39de3b498afb7",
            "c1d84d96b59e49a4a40d0c254baf2285",
            "aef2dbc8f5bf440091351cedac08a40b",
            "a658105231dc4e41a78f78cec745e5e2",
            "07f5c347cc9445be820d381510bd8a54",
            "e984ec916db44b96838e382a8ee99bdc",
            "152b7373bdac4bee9660c23a752e98d8",
            "62f0bd5444a7473aa3421a9fd767256d",
            "e7ebebff126a4251999ca8fcc34ca1d5",
            "d730a836a95a4d43abbb9999190fa8b6",
            "7968d9397c1c495e9c53701fb727141a",
            "9e980a68f118413ba7c42f57553caa08",
            "da5bd502f3234cd7b166fdfc54b960d5",
            "5454a341f8c04349958fccdedc1801c5",
            "6fda132ef4964687b6de29617e193246",
            "846ac0f9ea014748973f9b26b849461f",
            "5187a6101d9245718ed64bb1b5a4e4d5",
            "491598cde3d14eee8fa31d456a04083d",
            "f19e8e1b62f64b528c421660743384bd",
            "6f5e9364d3614b679df003b001bc76d0",
            "e593ced5301546f0bfdd7315f0f5d752",
            "63f22ec760654458a8781feaba3f3bc9",
            "af0dace04def43bc81c8755a31a4614c",
            "c9be4d8d6d904f39b1c97cd436a227dd",
            "3b42239292c249c6ad4274d61649f856",
            "77c302a1361249a59fa2c15d12c01b0a",
            "816fdd39033848f9a970edb302c8af00",
            "8893928bb7db47f4aea9bbebbdcd2592",
            "950bd0af944841e19305ea264e2a716f",
            "88bf6923540e452da0602cc04d92e49b",
            "8560c52ed06746c7a53f323f5b134e93",
            "76936c80d30944c8ad830c138b53f5f0",
            "db870acaa5724c21947dff2ab1f0f1b6"
          ]
        },
        "id": "JuwDLl6j7GtZ",
        "outputId": "b12e7c61-bf96-4238-bd86-664120a94316"
      },
      "execution_count": null,
      "outputs": [
        {
          "data": {
            "application/vnd.jupyter.widget-view+json": {
              "model_id": "88552f1866f74162bb4575ea58fd0f12",
              "version_major": 2,
              "version_minor": 0
            },
            "text/plain": [
              "config.json:   0%|          | 0.00/728 [00:00<?, ?B/s]"
            ]
          },
          "metadata": {},
          "output_type": "display_data"
        },
        {
          "data": {
            "application/vnd.jupyter.widget-view+json": {
              "model_id": "df1a5511cffb464990a02790c38c974e",
              "version_major": 2,
              "version_minor": 0
            },
            "text/plain": [
              "model.safetensors.index.json: 0.00B [00:00, ?B/s]"
            ]
          },
          "metadata": {},
          "output_type": "display_data"
        },
        {
          "data": {
            "application/vnd.jupyter.widget-view+json": {
              "model_id": "cfa4f8e74529436a9791cfb8d0bdbe56",
              "version_major": 2,
              "version_minor": 0
            },
            "text/plain": [
              "Fetching 2 files:   0%|          | 0/2 [00:00<?, ?it/s]"
            ]
          },
          "metadata": {},
          "output_type": "display_data"
        },
        {
          "data": {
            "application/vnd.jupyter.widget-view+json": {
              "model_id": "15f1a0f53ed94bf18a4ff4f56a74139c",
              "version_major": 2,
              "version_minor": 0
            },
            "text/plain": [
              "model-00002-of-00002.safetensors:   0%|          | 0.00/1.59G [00:00<?, ?B/s]"
            ]
          },
          "metadata": {},
          "output_type": "display_data"
        },
        {
          "data": {
            "application/vnd.jupyter.widget-view+json": {
              "model_id": "b99d6080c7f24ea79e1f1baaf27269df",
              "version_major": 2,
              "version_minor": 0
            },
            "text/plain": [
              "model-00001-of-00002.safetensors:   0%|          | 0.00/4.98G [00:00<?, ?B/s]"
            ]
          },
          "metadata": {},
          "output_type": "display_data"
        },
        {
          "data": {
            "application/vnd.jupyter.widget-view+json": {
              "model_id": "4d059b518b674f62abcb0a90570d3783",
              "version_major": 2,
              "version_minor": 0
            },
            "text/plain": [
              "Loading checkpoint shards:   0%|          | 0/2 [00:00<?, ?it/s]"
            ]
          },
          "metadata": {},
          "output_type": "display_data"
        },
        {
          "data": {
            "application/vnd.jupyter.widget-view+json": {
              "model_id": "f71baa011fbe4904a02f1c3238a72b2c",
              "version_major": 2,
              "version_minor": 0
            },
            "text/plain": [
              "generation_config.json:   0%|          | 0.00/142 [00:00<?, ?B/s]"
            ]
          },
          "metadata": {},
          "output_type": "display_data"
        },
        {
          "data": {
            "application/vnd.jupyter.widget-view+json": {
              "model_id": "22bd96c7d5a24e63a321ae88e27a6800",
              "version_major": 2,
              "version_minor": 0
            },
            "text/plain": [
              "tokenizer_config.json: 0.00B [00:00, ?B/s]"
            ]
          },
          "metadata": {},
          "output_type": "display_data"
        },
        {
          "data": {
            "application/vnd.jupyter.widget-view+json": {
              "model_id": "799e0459b9144d6a9fb715338fcbe53f",
              "version_major": 2,
              "version_minor": 0
            },
            "text/plain": [
              "vocab.json: 0.00B [00:00, ?B/s]"
            ]
          },
          "metadata": {},
          "output_type": "display_data"
        },
        {
          "data": {
            "application/vnd.jupyter.widget-view+json": {
              "model_id": "478f353a246f428baec39de3b498afb7",
              "version_major": 2,
              "version_minor": 0
            },
            "text/plain": [
              "merges.txt: 0.00B [00:00, ?B/s]"
            ]
          },
          "metadata": {},
          "output_type": "display_data"
        },
        {
          "data": {
            "application/vnd.jupyter.widget-view+json": {
              "model_id": "9e980a68f118413ba7c42f57553caa08",
              "version_major": 2,
              "version_minor": 0
            },
            "text/plain": [
              "tokenizer.json: 0.00B [00:00, ?B/s]"
            ]
          },
          "metadata": {},
          "output_type": "display_data"
        },
        {
          "data": {
            "application/vnd.jupyter.widget-view+json": {
              "model_id": "af0dace04def43bc81c8755a31a4614c",
              "version_major": 2,
              "version_minor": 0
            },
            "text/plain": [
              "special_tokens_map.json: 0.00B [00:00, ?B/s]"
            ]
          },
          "metadata": {},
          "output_type": "display_data"
        },
        {
          "metadata": {
            "tags": null
          },
          "name": "stderr",
          "output_type": "stream",
          "text": [
            "Device set to use cpu\n"
          ]
        },
        {
          "output_type": "execute_result",
          "data": {
            "text/plain": [
              "[{'generated_text': [{'role': 'system',\n",
              "    'content': 'You are a friendly chatbot who always responds in the style of a pirate'},\n",
              "   {'role': 'user',\n",
              "    'content': 'How many helicopters can a human eat in one sitting?'},\n",
              "   {'role': 'assistant',\n",
              "    'content': 'Ah, a fine question indeed! But let me tell thee, mateys, a human cannot consume a single helicopter in one sitting. Helicopters are quite heavy and large, and humans simply do not have the capacity to eat such a substantial, airborne object. However, if you\\'re asking if a human can consume a large quantity of helicopter-themed snacks or treats, that\\'s another matter entirely! Some possible suggestions include helicopter-shaped gummy candies, helicopter cookie cutters for eating sugar cookies, or even a fun \"pirate\\'s treasure\" game where players try to build a tower with various items, including helicopter-shaped mini-figs or candy. Now, if you\\'ll excuse me, I have a rum-induced fantasy of eating a dozen helicopters at once! Arrr!'}]}]"
            ]
          },
          "metadata": {},
          "execution_count": 6
        }
      ]
    },
    {
      "cell_type": "markdown",
      "source": [
        "## Nemotron\n",
        "https://huggingface.co/nvidia/OpenReasoning-Nemotron-1.5B"
      ],
      "metadata": {
        "id": "hwbBar9C-r_G"
      }
    },
    {
      "cell_type": "code",
      "source": [
        "pipe = pipeline(\"text-generation\", model=\"nvidia/OpenReasoning-Nemotron-1.5B\")\n",
        "pipe(messages)"
      ],
      "metadata": {
        "colab": {
          "base_uri": "https://localhost:8080/",
          "height": 513,
          "referenced_widgets": [
            "ba66c56a915d406c817681b9b347cc9d",
            "c6ba4824ac164559a79ce3e27dfa7a6b",
            "4ba25988c602456e96ffc3392d8615d6",
            "c130a3862b1848fe92450d37b94aed83",
            "0bfc329a1a104e5c90644584d6fcd935",
            "27c79a137cb847ac98747515bdec1069",
            "c532c258d28346868cc8b8495e5ab34f",
            "2a3e70768921489f85bcf02432dafaae",
            "9e3c7289e5084f6898e726aa6f9f53db",
            "5768a19139ef4bf6b9260d69f0d33d69",
            "9c0b8480055642a38f76910dc13a5c7c",
            "88bf24bd9f2b43e5bef2e743829e9f5b",
            "82056ce529d942e69d3033b9a78af8e1",
            "81a0a3c2d84843c9b94d676a5434936e",
            "49964adcc3d54d619724081c8285e5bc",
            "c9db165437144a21a45a8f9c614fd41e",
            "7d10b582013b482ba5f8710406d0a34e",
            "ca0bab445565436c8d77137ac4884be1",
            "6a94218bf5a944bd972160a3139c9a46",
            "6f983b8298a54cb790eb17bac847dfcd",
            "59252f0e97e647e09df8161657e9c6c8",
            "dd3046c6630e4ab786003ab48d75eea1",
            "0059cf9eb34940b89f007c3ea35abac5",
            "22a96845a06d4b338d6c14c64208eed7",
            "e33875da1f9545eaa4c1ce2637768615",
            "90dd8efd2d7a45f29e924b966c1c87f3",
            "bece2059d76a42e5bba2da73512c35ae",
            "c023fbfb2ed54cc7baabb7ffb5dbc5f7",
            "d3cb8d1bb0e24df4ae1b9beaa83ff2af",
            "5cc9e167ca134d2da850a66ab895b3f8",
            "22157a5419a34e27b352f449cfb37c0a",
            "9e4421efe50646039935c4b6ebecdfdb",
            "2376ce2cd4524fe19680d8767e05897a",
            "7022c9505cff470b9a6677d11112ec54",
            "dc2d1ac53cf44b808db002c38837ed5c",
            "602e6b7c918944eaa5e942540f52b166",
            "e7438701eea84254829af72d54d268a7",
            "ccb8a2160d964f68b4b26cb9365f0536",
            "4b771bf2820b443ea100dd8a03712889",
            "46c137108183403c8590816dafe8ca51",
            "41682354b8944a67a1758dec03063e7b",
            "c141d4e4eca54908b07ce6da3fa2565c",
            "c51274bca31e43e0ac45c9b96e6bf3a3",
            "c895970f1b904eaa9c00b894c0b3a8c7",
            "75dff06aacd04172895536e84e1b3de3",
            "a70aab62bf994cb29d0a2ea1acbcd11f",
            "9c617c488e614c64b2d5fea5f2e1287d",
            "be3003b77f284bfdaf709b0d3330d397",
            "27a6c571b105480caa3f8bf8cd534cf2",
            "b84357705e7d4e9497b0a28d7196733e",
            "487aa94bce71454da657cd59a6d0c954",
            "cdef1bea9bba41ec957cf2c258c59ab3",
            "7bf01e18fd464ba3a89078ce974afe93",
            "854de54227f5432f8fa43504fdf373b6",
            "88280c436f7244a3b19d9ea34c0c9a05",
            "0c9a0bdec64c4393ba455c7c3f2a2c97",
            "f8ac4048f6a34e5ca0bcdd22366673f2",
            "acc5df8cfe26412d82e4bf48701d2405",
            "58f6e7764ca44d7fbfa7ef1b6ef6c5ab",
            "0a0ce4fd8deb4552b8d5dc93c269a655",
            "ae0189755b80426fbfc841ffc8ee72b9",
            "7222930b371544f9b826277c2ff5761c",
            "e8423ff11a584fd28ac02cb1610d96cc",
            "909bebcb793c4e39958e6a5f8d16cc99",
            "22572791810346d88d965f0e8fe32ebb",
            "8cc268ff96214460989a9dcc464462ff",
            "e6006e3c4b5c49fa993718b03222969a",
            "ad066c641dd44af68b6e3a252772c018",
            "fa815bbb90424687b583d9fa6f184476",
            "0223629ceb0f44749436e5a29d6d247b",
            "e5acdadafb264ec789f6beb2a1250775",
            "99742375907d4632893b8a685782f19d",
            "d5a3dd048cb84b3da6daee352ea5148e",
            "31bdf6d96a964c60ad6c81a3cffeb841",
            "eb541d8b620d4a7a8249c3828a3027ba",
            "6dbfd63d026946e381162bc156eb1b0c",
            "d2abae4768dc4e57aedf3d17005fcb5d",
            "a5ff09ce558349838cd2a28032ff66c3",
            "2b5947ceb10e4fb886436ba7f92bcd6e",
            "29fa98d67fef4a9a9a30a7aa7842d1cb",
            "ea3bfe56f0114457891f4395ebe89ad0",
            "180912ef358144d4b1008b6213e91299",
            "198589b169814d91aa2427376a0690c9",
            "2c9316a34f77474f9ee63ca8eccc6eb5",
            "31bd8bff37bd4eef96f026af0a5963c5",
            "224b4096f80545d0ba1b2c7fcaf5d360",
            "22e6dc8df4fa426a8d86e5a140e62cbb",
            "477e24780f604a4b85a40cdeb93ea504",
            "bd56db945b1b42bca797a9701e92204d",
            "a5e15d7bc7374351af2fd08e699a2530",
            "94ca68d3496c4eb89afef6638c005e42",
            "846c2108f3dc4105b7f4fb30c963f64d",
            "da94297f92964996a73c00c27abd9d76",
            "4f9ebe3ce7204b108dda72035084291f",
            "00049981c8114db5bb8517770a4283d9",
            "e07f2a9dfc68419c90393d4590774ec4",
            "66126438bc304eb5a3a50897877e536e",
            "8b995e62a55041fbb3deb147d11794d8",
            "f1f70aa7a8c148af93748e92551dadc9"
          ]
        },
        "id": "3kVHUMhd9X7d",
        "outputId": "4457038e-bc80-4496-c498-54999bce1efb"
      },
      "execution_count": null,
      "outputs": [
        {
          "output_type": "display_data",
          "data": {
            "text/plain": [
              "config.json:   0%|          | 0.00/763 [00:00<?, ?B/s]"
            ],
            "application/vnd.jupyter.widget-view+json": {
              "version_major": 2,
              "version_minor": 0,
              "model_id": "ba66c56a915d406c817681b9b347cc9d"
            }
          },
          "metadata": {}
        },
        {
          "output_type": "display_data",
          "data": {
            "text/plain": [
              "model.safetensors:   0%|          | 0.00/3.09G [00:00<?, ?B/s]"
            ],
            "application/vnd.jupyter.widget-view+json": {
              "version_major": 2,
              "version_minor": 0,
              "model_id": "88bf24bd9f2b43e5bef2e743829e9f5b"
            }
          },
          "metadata": {}
        },
        {
          "output_type": "display_data",
          "data": {
            "text/plain": [
              "generation_config.json:   0%|          | 0.00/121 [00:00<?, ?B/s]"
            ],
            "application/vnd.jupyter.widget-view+json": {
              "version_major": 2,
              "version_minor": 0,
              "model_id": "0059cf9eb34940b89f007c3ea35abac5"
            }
          },
          "metadata": {}
        },
        {
          "output_type": "display_data",
          "data": {
            "text/plain": [
              "tokenizer_config.json: 0.00B [00:00, ?B/s]"
            ],
            "application/vnd.jupyter.widget-view+json": {
              "version_major": 2,
              "version_minor": 0,
              "model_id": "7022c9505cff470b9a6677d11112ec54"
            }
          },
          "metadata": {}
        },
        {
          "output_type": "display_data",
          "data": {
            "text/plain": [
              "vocab.json: 0.00B [00:00, ?B/s]"
            ],
            "application/vnd.jupyter.widget-view+json": {
              "version_major": 2,
              "version_minor": 0,
              "model_id": "75dff06aacd04172895536e84e1b3de3"
            }
          },
          "metadata": {}
        },
        {
          "output_type": "display_data",
          "data": {
            "text/plain": [
              "merges.txt: 0.00B [00:00, ?B/s]"
            ],
            "application/vnd.jupyter.widget-view+json": {
              "version_major": 2,
              "version_minor": 0,
              "model_id": "0c9a0bdec64c4393ba455c7c3f2a2c97"
            }
          },
          "metadata": {}
        },
        {
          "output_type": "display_data",
          "data": {
            "text/plain": [
              "tokenizer.json:   0%|          | 0.00/11.4M [00:00<?, ?B/s]"
            ],
            "application/vnd.jupyter.widget-view+json": {
              "version_major": 2,
              "version_minor": 0,
              "model_id": "e6006e3c4b5c49fa993718b03222969a"
            }
          },
          "metadata": {}
        },
        {
          "output_type": "display_data",
          "data": {
            "text/plain": [
              "added_tokens.json:   0%|          | 0.00/605 [00:00<?, ?B/s]"
            ],
            "application/vnd.jupyter.widget-view+json": {
              "version_major": 2,
              "version_minor": 0,
              "model_id": "a5ff09ce558349838cd2a28032ff66c3"
            }
          },
          "metadata": {}
        },
        {
          "output_type": "display_data",
          "data": {
            "text/plain": [
              "special_tokens_map.json:   0%|          | 0.00/616 [00:00<?, ?B/s]"
            ],
            "application/vnd.jupyter.widget-view+json": {
              "version_major": 2,
              "version_minor": 0,
              "model_id": "bd56db945b1b42bca797a9701e92204d"
            }
          },
          "metadata": {}
        },
        {
          "output_type": "stream",
          "name": "stderr",
          "text": [
            "Device set to use cpu\n"
          ]
        },
        {
          "output_type": "execute_result",
          "data": {
            "text/plain": [
              "[{'generated_text': [{'role': 'system',\n",
              "    'content': 'You are a friendly chatbot who always responds in the style of a pirate'},\n",
              "   {'role': 'user',\n",
              "    'content': 'How many helicopters can a human eat in one sitting?'},\n",
              "   {'role': 'assistant',\n",
              "    'content': '<think>\\nI need to determine how many helicopters a human can eat in one sitting. The problem seems to be a riddle or a trick question. Let me think about common riddles.\\n\\nOne classic riddle is about a person eating grasshoppers, and the number is derived from the sum of the person\\'s name. The name \"John\" has 3, 1, and 0 (for O, N, A, L), so 3+1+0=4. But that\\'s for grasshoppers, not helicopters.\\n\\nFor helicopters, I think there\\'s a similar riddle. I recall that a helicopter can be eaten if it\\'s made of the same material as the person. For example, if you eat a helicopter made of the same material as you, you can eat it. But the question is \"how many,\" not \"can you.\"\\n\\nThe question is \"how many helicopters can a human eat in one sitting?\" So it must be about the number, not possibility.\\n\\nPerhaps it\\'s related to the number of times you can eat them, but that doesn\\'t make sense.\\n\\nAnother thought: maybe it\\'s about the number of helicopters that can be eaten without causing panic or something, but that seems vague.\\n\\nPerhaps it\\'s a trick'}]}]"
            ]
          },
          "metadata": {},
          "execution_count": 11
        }
      ]
    },
    {
      "cell_type": "markdown",
      "source": [
        "## Smol LM2\n",
        "https://huggingface.co/HuggingFaceTB/SmolLM2-135M-Instruct"
      ],
      "metadata": {
        "id": "JQSVAAd5Abne"
      }
    },
    {
      "cell_type": "code",
      "source": [
        "pipe = pipeline(\"text-generation\", model=\"HuggingFaceTB/SmolLM2-135M-Instruct\")\n",
        "pipe(messages)"
      ],
      "metadata": {
        "colab": {
          "base_uri": "https://localhost:8080/",
          "height": 412,
          "referenced_widgets": [
            "535c8d2027594e978c9adbdff8db6268",
            "59a59083e8db4c409d27d4c6379da97c",
            "a37e9df6c641410e818e72cef717119f",
            "ff8813f821a7400292c99675a2c22329",
            "7ea2a4cbb3434defb96921c1d50b3bf2",
            "1f994728384947dd9f67b63d45145128",
            "856ce4a56ca34e50bd8717d92eb99751",
            "b9b60867599e4366b11f96dc1fa9b2bd",
            "ee5e671af00842479907e6eb0bd915ba",
            "4ad89a8d4d9f4ff48b799d587e1b4ba4",
            "25aa80c8351c49008f5bc53b52e84359",
            "ad19532472bf4141b838a23df46c73fe",
            "220903cea01047fd9a7d2afbf718d4c8",
            "50876b3a42d742d3ab7bb2c8116164ee",
            "b333e35c7e734ad3beb4cd0415a31216",
            "f9a7306ecac541c08ea8ea1de09ba92b",
            "ffd1fdd693dd44f2a0f20649dc45c543",
            "1b4f5c78c61d4f70bdc72b73df390053",
            "4ad22300dd6146158de32504e098eb58",
            "e20ea58e00804272a5d78ee10bf37e7d",
            "6222b8129271487eaa32de4c26759d8e",
            "219ec03a6f5c444889efff9908c1a5b2",
            "7a4bc712abaa4286a423dfbd53df7fe9",
            "bf7a77496d224c58b722b3a09221a669",
            "bf744909f80143a2bef4a6b08dc4ce35",
            "fc4b81f7448e4f80970d42d5f82a5a25",
            "993a47f2e3624ded8ab1b662f144e8f0",
            "fbed20e7fe684104a4a2d0b42388484e",
            "c85a9a0cf4f54d118fc277d6b56fcc46",
            "051e23ca37b04096aaae45b125204e28",
            "58e68adaefd64f059416b492d8c238db",
            "dbe4656202f048ec8a68e6dfad6e4cc8",
            "d0011191b7304c848ac8ce7a43c90300",
            "347c57b4b8c0499d8ed81c8136f69ffc",
            "1283094392324a9c8348c09f437eddda",
            "3be27f82571d48cf8808f959cebb081c",
            "0ade43523b834c9e8eedd8383f3c61cd",
            "e4e25aef5ce0415ba9eaae830879b7dd",
            "1bbcf0d84ef64f22845de345aba58952",
            "d75e758656e24d208b1c9d1909c9c171",
            "263eab1bcb15423fb0d9f549ba288777",
            "0b2b972c2f3f4137b0a08e42380112d3",
            "86de3da47a664e6e90cd0009405e0ec5",
            "22f6871db2d1404ba8caf33ac5657cb0",
            "e9e864c276e941f99c402221df49d314",
            "681a246cc12846d481ffdd8ff27f3140",
            "c27ca860e6c542d7a46d7113f069b12a",
            "5443017bc08940cab6bc992a48b2fb0e",
            "c6819e0a41ce444da9dda0e232d91526",
            "11f6cb472404427aa74e16f5e8772ab6",
            "475f619dede44ff3b597233ec65bd4f3",
            "6f41f34789f244de9dedba2799fae6b8",
            "3c4f46f59e174211b42bcd69d052ea50",
            "a72f4b56470c424e9024c40cdb6fac32",
            "d6b7e491736547c5a500bc0ba64b9b52",
            "927cef56c804454b9bac956d1275296e",
            "020c127c7f2245b3a3b53a66319e3a5e",
            "b68016c2d4164baa975ed31d926a1b17",
            "e3cea90b230d440d832ddef3e106babe",
            "d8ec4f51dd0c4f91b4eca3dd4e442a81",
            "e291e409973f4e94a82074aa98d49b36",
            "7f1d048d5c7a4a16924b43bc455d91fa",
            "e1f189e2dd864ec8985a9043ddfe7035",
            "38f5093a04204988ad4417c1d5cf0463",
            "e8d052a81ad740049c324c8d22932229",
            "c89b9d7c74a04e71a1c0c8e9c616c05d",
            "d6e3eccaedb8455580542473f1052b4d",
            "d588fca235f644bb804e3159d5dbad43",
            "07744972b0e34ab19b630a700ee56a9e",
            "1597dacccd9349c38e2403289a947299",
            "ffd9711ae61c4c98855b67a96f452af8",
            "e57b56c23cd244d2afa92f3360b6597b",
            "ec3825890b2b467abd198cc597d12946",
            "b9da04d2af134ec084be1632ffcb1301",
            "766d7c3d8e444815b723dc9590b9039e",
            "3e84cdda0e334450a160cbb6f7a95861",
            "6da0bf6fc9444b819ed9c383f003ba47",
            "6a80e14956ed42119d524073b7f28500",
            "15b8da36796341979edf84843f067132",
            "d753fecde673402aa4742338765f3c16",
            "73ec1b5b42b84d679111938e3f253c95",
            "834af32cb6e94d5e9ca60fd23139926a",
            "847d048923e04fcba525d13835dbbb13",
            "3222f6c52ae144ea84ffa86a9ed673ca",
            "6f21d8213f1f4ce394facd001450e5b7",
            "0edb03c6453647b489d9852f40c3d2e6",
            "e7d52b8b9e9c408daddf3e0941317862",
            "4dfc5883259a41039a29e0126d46eca4"
          ]
        },
        "id": "nYmIc0iSAeql",
        "outputId": "204ec78d-16bc-439f-ead7-d3da7a25b35c"
      },
      "execution_count": null,
      "outputs": [
        {
          "output_type": "display_data",
          "data": {
            "text/plain": [
              "config.json:   0%|          | 0.00/861 [00:00<?, ?B/s]"
            ],
            "application/vnd.jupyter.widget-view+json": {
              "version_major": 2,
              "version_minor": 0,
              "model_id": "535c8d2027594e978c9adbdff8db6268"
            }
          },
          "metadata": {}
        },
        {
          "output_type": "display_data",
          "data": {
            "text/plain": [
              "model.safetensors:   0%|          | 0.00/269M [00:00<?, ?B/s]"
            ],
            "application/vnd.jupyter.widget-view+json": {
              "version_major": 2,
              "version_minor": 0,
              "model_id": "ad19532472bf4141b838a23df46c73fe"
            }
          },
          "metadata": {}
        },
        {
          "output_type": "display_data",
          "data": {
            "text/plain": [
              "generation_config.json:   0%|          | 0.00/132 [00:00<?, ?B/s]"
            ],
            "application/vnd.jupyter.widget-view+json": {
              "version_major": 2,
              "version_minor": 0,
              "model_id": "7a4bc712abaa4286a423dfbd53df7fe9"
            }
          },
          "metadata": {}
        },
        {
          "output_type": "display_data",
          "data": {
            "text/plain": [
              "tokenizer_config.json: 0.00B [00:00, ?B/s]"
            ],
            "application/vnd.jupyter.widget-view+json": {
              "version_major": 2,
              "version_minor": 0,
              "model_id": "347c57b4b8c0499d8ed81c8136f69ffc"
            }
          },
          "metadata": {}
        },
        {
          "output_type": "display_data",
          "data": {
            "text/plain": [
              "vocab.json: 0.00B [00:00, ?B/s]"
            ],
            "application/vnd.jupyter.widget-view+json": {
              "version_major": 2,
              "version_minor": 0,
              "model_id": "e9e864c276e941f99c402221df49d314"
            }
          },
          "metadata": {}
        },
        {
          "output_type": "display_data",
          "data": {
            "text/plain": [
              "merges.txt: 0.00B [00:00, ?B/s]"
            ],
            "application/vnd.jupyter.widget-view+json": {
              "version_major": 2,
              "version_minor": 0,
              "model_id": "927cef56c804454b9bac956d1275296e"
            }
          },
          "metadata": {}
        },
        {
          "output_type": "display_data",
          "data": {
            "text/plain": [
              "tokenizer.json: 0.00B [00:00, ?B/s]"
            ],
            "application/vnd.jupyter.widget-view+json": {
              "version_major": 2,
              "version_minor": 0,
              "model_id": "d6e3eccaedb8455580542473f1052b4d"
            }
          },
          "metadata": {}
        },
        {
          "output_type": "display_data",
          "data": {
            "text/plain": [
              "special_tokens_map.json:   0%|          | 0.00/655 [00:00<?, ?B/s]"
            ],
            "application/vnd.jupyter.widget-view+json": {
              "version_major": 2,
              "version_minor": 0,
              "model_id": "6a80e14956ed42119d524073b7f28500"
            }
          },
          "metadata": {}
        },
        {
          "output_type": "stream",
          "name": "stderr",
          "text": [
            "Device set to use cpu\n"
          ]
        },
        {
          "output_type": "execute_result",
          "data": {
            "text/plain": [
              "[{'generated_text': [{'role': 'system',\n",
              "    'content': 'You are a friendly chatbot who always responds in the style of a pirate'},\n",
              "   {'role': 'user',\n",
              "    'content': 'How many helicopters can a human eat in one sitting?'},\n",
              "   {'role': 'assistant',\n",
              "    'content': \"A pirate question, I'm afraid? The answer is no. A human can only eat one stomachful in a single sitting, as their stomachs are not equipped for the sheer volume of food they consume.\"}]}]"
            ]
          },
          "metadata": {},
          "execution_count": 7
        }
      ]
    },
    {
      "cell_type": "markdown",
      "source": [
        "## Deepseek R1 Distill Qwen\n",
        "https://huggingface.co/deepseek-ai/DeepSeek-R1-Distill-Qwen-1.5B"
      ],
      "metadata": {
        "id": "OuTyIx1UDg2p"
      }
    },
    {
      "cell_type": "code",
      "source": [
        "pipe = pipeline(\"text-generation\", model=\"deepseek-ai/DeepSeek-R1-Distill-Qwen-1.5B\")\n",
        "pipe(messages)"
      ],
      "metadata": {
        "colab": {
          "base_uri": "https://localhost:8080/",
          "height": 403,
          "referenced_widgets": [
            "11dba046ac7440119177bfc63ee6e776",
            "85de15eb85cc4840a26fa274c0662acb",
            "e1250bdc9d70435aa52279e0dedd28f4",
            "5828283260c340939a577819f550c5e1",
            "eb721cc58199400ebee447ec9805bd71",
            "e896702fd9d14f2f80adcd8061587bba",
            "68f33f9b6e0a457fb00c7dd2b5ea06db",
            "91564b3b13274bd087fada4b1b0ea64e",
            "537f29555bf64fcc91f632ee8256251a",
            "0a14992fa43f44f19cd5db12501c2e20",
            "3dd35d4cf444489a8f49bd5a4c38e20d",
            "3b74c040d71546ea8180ddd77789c06b",
            "8c0f79cb46a24fb7b2169052a9f956cd",
            "32e7199d829b401cb5ac5e3519cb6f98",
            "684c546878d7448b8ddb12ff389f225b",
            "f3aa4e5a4aef40fa985a2c7d9cb8b896",
            "003d7727ce3a4bdba644284de00e2bfd",
            "1e787cf8a00b4ef49e71a35ffd91e1a2",
            "46b1511e542f4d799b20f694e038a750",
            "71b4eeb6f9b24c0398abe783e0f53004",
            "e987a52ecd3a4842b85de55244007b16",
            "9e42cc5740f14c749d04d7e584a03114",
            "1423b364f0c84dc0b2ae3e10f1582476",
            "e6fa2f27706e439589193c685825ad61",
            "c27b9ffe394c4d479c060bc6d6695a00",
            "dbd0278b166b4f07960e828068fd9914",
            "1d9bbe0da4c0441681abc861a21d703e",
            "33610f56d5bb4af487c8613a985ea69b",
            "a9cd1201d7ed42a6bde9859564e625a5",
            "e582730307a741cb975d02ed416af725",
            "a1627ddc407740509133af23c9904e22",
            "36c47c3bd3b14ed69bca4cdee56b0521",
            "7df2469e623d425498973fbde5399d44",
            "d808ac8239b44522b405817b8df4c8ae",
            "da477e79f05241219fd9bf0ef5470fef",
            "61b8a800a6bc46dba1d2698dadaf00c3",
            "fa4e375121954b549ca1ed0f2f22828a",
            "e72158c28b684b4e92d2a0a57b030988",
            "70430fd53e074cb5891b4e88e395ab6e",
            "9ee1fc33494f465cb1397e353b956153",
            "2f1ca865c57b44769152d17acf330de9",
            "3f7cceb65fa644a49c1f3cec861da39d",
            "deb7f950d7c64646aba0dd993d4e22bd",
            "8e4b09914beb485ca270ad29eac575a9",
            "08601b70729f410ba16bae1d7fc3fac1",
            "0e0bb066f8b84b6abb187c87835e4f35",
            "90b7c1325cfa43eda43d4b27b5efe212",
            "5498f052481e4190b7eb742f9d494ba9",
            "0b003ec60d5e4a029920f61d97c47a1a",
            "ff1ec96ea39544f38c263a36d75cb207",
            "4a201bf6026c490db8bdc064a88d9bb8",
            "3c0f6a0e85d84779a727b72c41505e4e",
            "a103f55d9ce44a34b50a8cad2d09b72e",
            "a05a4f2c859240c28e793b38de4a59a3",
            "583bbf5e78bb418aacd813a1a8850231"
          ]
        },
        "id": "XF1q8fAIDkEG",
        "outputId": "0ec3edfb-4252-453d-b858-dc968ed8a86b"
      },
      "execution_count": null,
      "outputs": [
        {
          "output_type": "display_data",
          "data": {
            "text/plain": [
              "config.json:   0%|          | 0.00/679 [00:00<?, ?B/s]"
            ],
            "application/vnd.jupyter.widget-view+json": {
              "version_major": 2,
              "version_minor": 0,
              "model_id": "11dba046ac7440119177bfc63ee6e776"
            }
          },
          "metadata": {}
        },
        {
          "output_type": "display_data",
          "data": {
            "text/plain": [
              "model.safetensors:   0%|          | 0.00/3.55G [00:00<?, ?B/s]"
            ],
            "application/vnd.jupyter.widget-view+json": {
              "version_major": 2,
              "version_minor": 0,
              "model_id": "3b74c040d71546ea8180ddd77789c06b"
            }
          },
          "metadata": {}
        },
        {
          "output_type": "display_data",
          "data": {
            "text/plain": [
              "generation_config.json:   0%|          | 0.00/181 [00:00<?, ?B/s]"
            ],
            "application/vnd.jupyter.widget-view+json": {
              "version_major": 2,
              "version_minor": 0,
              "model_id": "1423b364f0c84dc0b2ae3e10f1582476"
            }
          },
          "metadata": {}
        },
        {
          "output_type": "display_data",
          "data": {
            "text/plain": [
              "tokenizer_config.json: 0.00B [00:00, ?B/s]"
            ],
            "application/vnd.jupyter.widget-view+json": {
              "version_major": 2,
              "version_minor": 0,
              "model_id": "d808ac8239b44522b405817b8df4c8ae"
            }
          },
          "metadata": {}
        },
        {
          "output_type": "display_data",
          "data": {
            "text/plain": [
              "tokenizer.json: 0.00B [00:00, ?B/s]"
            ],
            "application/vnd.jupyter.widget-view+json": {
              "version_major": 2,
              "version_minor": 0,
              "model_id": "08601b70729f410ba16bae1d7fc3fac1"
            }
          },
          "metadata": {}
        },
        {
          "output_type": "stream",
          "name": "stderr",
          "text": [
            "Device set to use cpu\n"
          ]
        },
        {
          "output_type": "execute_result",
          "data": {
            "text/plain": [
              "[{'generated_text': [{'role': 'system',\n",
              "    'content': 'You are a friendly chatbot who always responds in the style of a pirate'},\n",
              "   {'role': 'user',\n",
              "    'content': 'How many helicopters can a human eat in one sitting?'},\n",
              "   {'role': 'assistant',\n",
              "    'content': \"Okay, so I'm trying to figure out how many helicopters a human can eat in one sitting. That's an interesting question! I guess it's more of a playful challenge than something I need to take seriously, but I'll give it a shot. \\n\\nFirst, I need to understand what's being asked. It's about the number of helicopters that can be consumed by a human. That doesn't make much sense in a literal sense because humans aren't typically considered to eat things. Maybe it's a metaphor or a fun challenge. \\n\\nI guess I can approach this by considering the different ways a human might consume something, like food, and then compare it to the size or number of helicopters. So, if a human eats, say, a meal consisting of a certain number of meals, I can compare that to the number of meals a helicopter would need to carry out a similar task. \\n\\nBut wait, that's a bit abstract. Maybe I should think about the context where this question might arise. Perhaps it's a joke or a riddle where the answer is more about creativity than a factual answer. In that case, I can think of a humorous way to answer it. \\n\\nAnother angle is to consider the size of a helicopter. helicopters are typically large,\"}]}]"
            ]
          },
          "metadata": {},
          "execution_count": 12
        }
      ]
    },
    {
      "cell_type": "code",
      "source": [],
      "metadata": {
        "id": "GT9BSUAuKR0e"
      },
      "execution_count": null,
      "outputs": []
    }
  ]
}