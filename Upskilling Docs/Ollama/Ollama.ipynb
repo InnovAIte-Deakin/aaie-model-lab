{
 "cells": [
  {
   "cell_type": "markdown",
   "id": "c6a6b533",
   "metadata": {},
   "source": [
    "# Libraries"
   ]
  },
  {
   "cell_type": "code",
   "execution_count": 2,
   "id": "a2c29e93",
   "metadata": {},
   "outputs": [],
   "source": [
    "import requests\n",
    "from typing import List, Dict, Any\n",
    "import json\n",
    "import time"
   ]
  },
  {
   "cell_type": "markdown",
   "id": "cf4a4c9c",
   "metadata": {},
   "source": [
    "### 1. List Available Models"
   ]
  },
  {
   "cell_type": "code",
   "execution_count": null,
   "id": "16ded548",
   "metadata": {},
   "outputs": [],
   "source": [
    "import requests\n",
    "\n",
    "url = \"http://127.0.0.1:11434/api/tags\"\n",
    "\n",
    "response = requests.get(url)\n",
    "models = response.json()\n",
    "\n",
    "print(\"Available Models:\")\n",
    "for model in models['models']:\n",
    "    name = model.get('name', 'N/A')\n",
    "    model_id = model.get('model', 'N/A')\n",
    "    size = model.get('size', 'N/A')\n",
    "    parameters = model.get('details', {}).get('parameter_size', 'N/A')\n",
    "    quantization = model.get('details', {}).get('quantization_level', 'N/A')\n",
    "    print(f\"Name: {name}, Model ID: {model_id}, Size: {size}, Parameters: {parameters}, Quantization: {quantization}\")"
   ]
  },
  {
   "cell_type": "markdown",
   "id": "0e9c27f1",
   "metadata": {},
   "source": [
    "### 2. Chat Completion (Multi-turn Conversation)"
   ]
  },
  {
   "cell_type": "code",
   "execution_count": 6,
   "id": "ef75d63e",
   "metadata": {
    "scrolled": true
   },
   "outputs": [
    {
     "name": "stdout",
     "output_type": "stream",
     "text": [
      "AI Response: Okay, let's break down the benefits of LMStudio – it's become a really popular choice for running and experimenting with large language models (LLMs) locally. Here’s a detailed look at what makes it valuable:\n",
      "\n",
      "**1. Local Execution – Privacy & Control:**\n",
      "\n",
      "* **No Cloud Dependency:** This is the BIGGEST benefit. LMStudio allows you to run LLMs *directly on your computer*, without needing an internet connection or relying on a cloud service like OpenAI's API or Google's Gemini. This is crucial for:\n",
      "    * **Privacy:** Your data and prompts never leave your machine.  This is vital if you're dealing with sensitive information.\n",
      "    * **Cost Savings:**  Cloud APIs can quickly become expensive, especially for extensive use. Running locally eliminates those per-token charges.\n",
      "    * **Offline Access:**  You can still use the models even when you’re off the grid.\n",
      "\n",
      "**2. Wide Model Compatibility:**\n",
      "\n",
      "* **Supports a Huge Range of Models:** LMStudio is designed to work with a massive and growing number of models, including:\n",
      "    * **Gemma:**  Google's open-source family of models.\n",
      "    * **Llama 2 & Llama 3:** Meta's popular and powerful models.\n",
      "    * **Mistral AI Models:**  Excellent open-source options.\n",
      "    * **Many Others:**  It's constantly being updated to support more and more models being released by various organizations.\n",
      "* **Easy Model Loading:**  LMStudio makes it surprisingly easy to load models from various formats (GGUF, GGML, etc.)\n",
      "\n",
      "**3. User-Friendly Interface:**\n",
      "\n",
      "* **Simple & Intuitive:** The desktop application has a straightforward interface, making it accessible to users who aren't necessarily tech-savvy.\n",
      "* **Chat Interface:** It includes a built-in chat interface for interacting with the models directly.\n",
      "* **Parameter Control:**  You can easily adjust parameters like:\n",
      "    * **Temperature:** Controls the randomness of the output.\n",
      "    * **Top P:**  Another way to manage randomness.\n",
      "    * **Context Length:**  The amount of text the model considers when generating its response (important for longer conversations/tasks).\n",
      "\n",
      "**4. Performance & Optimization:**\n",
      "\n",
      "* **Quantization Support:** LMStudio excels at handling quantized models. Quantization reduces the size of the model files, making them faster to load and run, especially on computers with limited RAM.  It offers various quantization levels (Q4, Q5, etc.).\n",
      "* **GPU Acceleration (Optional):**  If you have a compatible NVIDIA GPU, LMStudio can leverage it for significantly faster inference speeds.\n",
      "* **Optimized for CPU & GPU:**  It's designed to utilize your computer’s resources efficiently.\n",
      "\n",
      "**5. Community & Development:**\n",
      "\n",
      "* **Active Community:**  LMStudio has a vibrant and supportive community.\n",
      "* **Regular Updates:**  The development team is actively adding features and support for new models and technologies.\n",
      "\n",
      "\n",
      "\n",
      "**Here's a quick summary table:**\n",
      "\n",
      "| Feature             | LMStudio |\n",
      "|----------------------|----------|\n",
      "| **Execution**        | Local     |\n",
      "| **Model Support**      | Extensive |\n",
      "| **Interface**         | Simple   |\n",
      "| **Quantization**      | Yes       |\n",
      "| **GPU Acceleration** | Yes (Optional) |\n",
      "| **Cost**              | Free      |\n",
      "\n",
      "**Where to Get It:**\n",
      "\n",
      "* [LMStudio Website](https://lmstudio.ai/)\n",
      "* [GitHub Repository](https://github.com/lmstudio/LMStudio)\n",
      "\n",
      "---\n",
      "\n",
      "**Do you want me to delve deeper into a specific aspect of LMStudio, such as:**\n",
      "\n",
      "*   How to load a particular model?\n",
      "*   How quantization works?\n",
      "*   How to set up GPU acceleration?\n"
     ]
    }
   ],
   "source": [
    "url = \"http://127.0.0.1:11434/v1/chat/completions\"\n",
    "\n",
    "payload = {\n",
    "    \"model\": \"gemma3:latest\",\n",
    "    \"messages\": [\n",
    "        {\"role\": \"system\", \"content\": \"You are a helpful assistant.\"},\n",
    "        {\"role\": \"user\", \"content\": \"Explain the benefits of LMStudio.\"}\n",
    "    ]\n",
    "}\n",
    "\n",
    "response = requests.post(url, json=payload)\n",
    "chat_response = response.json()\n",
    "\n",
    "print(\"AI Response:\", chat_response['choices'][0]['message']['content'])"
   ]
  },
  {
   "cell_type": "markdown",
   "id": "39552fb1",
   "metadata": {},
   "source": [
    "### AAIE Model Prompts"
   ]
  },
  {
   "cell_type": "code",
   "execution_count": 25,
   "id": "39179f40",
   "metadata": {},
   "outputs": [],
   "source": [
    "SYSTEM_PROMPT = \"You are a careful academic assistant. Be precise and give clear structured output (not JSON, not CSV, no files).\"\n",
    "\n",
    "def build_feedback_prompt(domain: str, assignment_prompt: str, rubric_text: str, submission: str) -> List[Dict[str, str]]:\n",
    "    \"\"\"\n",
    "    Rubric-Aligned Feedback Prompt\n",
    "    ------------------------------\n",
    "    Purpose:\n",
    "        Generates structured, supportive feedback for a student submission.\n",
    "\n",
    "    Technique:\n",
    "        - Role-based prompting\n",
    "        - Rubric-grounded evaluation\n",
    "        - Output in plain text \n",
    "\n",
    "    Expected Output (example format in plain text):\n",
    "        Overall Summary:\n",
    "        <2–4 sentence overview>\n",
    "\n",
    "        Criteria Feedback:\n",
    "        Criterion: <criterion_id>\n",
    "        Rating: Excellent | Good | Average | Needs Improvement | Poor\n",
    "        Reason:\n",
    "        - point 1\n",
    "        - point 2\n",
    "        Improvement Tip: one concrete suggestion\n",
    "\n",
    "        Overall Rating: Excellent | Good | Average | Needs Improvement | Poor\n",
    "    \"\"\"\n",
    "    user = f\"\"\"\n",
    "You are a supportive assessor. Provide actionable feedback aligned to the rubric.\n",
    "Return plain structured text only (no JSON, no files).\n",
    "\n",
    "Sections to include:\n",
    "1) Overall Summary: 2–4 sentences on strengths and priorities.\n",
    "2) Criteria Feedback: for each rubric criterion include:\n",
    "   - Criterion\n",
    "   - Rating (excellent, good, average, needs_improvement, poor)\n",
    "   - Evidence (1–3 bullet points citing excerpts or behaviors)\n",
    "   - Improvement Tip (one concrete step)\n",
    "3) Overall Rating: Excellent | Good | Average | Needs Improvement | Poor\n",
    "\n",
    "Context:\n",
    "- Domain: {domain}\n",
    "- Assignment prompt: {assignment_prompt}\n",
    "\n",
    "Rubric (verbatim):\n",
    "{rubric_text}\n",
    "\n",
    "Student submission:\n",
    "\\\"\\\"\\\"{submission}\\\"\\\"\\\"\\n\n",
    "\"\"\"\n",
    "    return [\n",
    "        {\"role\": \"system\", \"content\": SYSTEM_PROMPT},\n",
    "        {\"role\": \"user\", \"content\": user},\n",
    "    ]\n"
   ]
  },
  {
   "cell_type": "markdown",
   "id": "005ce073",
   "metadata": {},
   "source": [
    "### Loading Training Data"
   ]
  },
  {
   "cell_type": "code",
   "execution_count": 12,
   "id": "a10b5692",
   "metadata": {},
   "outputs": [],
   "source": [
    "with open(\"accounting.json\", \"r\") as f:\n",
    "    data = json.load(f)"
   ]
  },
  {
   "cell_type": "markdown",
   "id": "3c43aefb",
   "metadata": {},
   "source": [
    "### Generating Feedback"
   ]
  },
  {
   "cell_type": "code",
   "execution_count": 26,
   "id": "cf0fe7c1",
   "metadata": {},
   "outputs": [],
   "source": [
    "feedback_results = []\n",
    "\n",
    "for s in data[\"submissions\"]:\n",
    "    feedback_prompt = build_feedback_prompt(\n",
    "        domain=data[\"domain\"],\n",
    "        assignment_prompt=data[\"prompt\"],\n",
    "        rubric_text=json.dumps(data[\"rubric\"], indent=2),\n",
    "        submission=s[\"final_submission\"]\n",
    "    )\n",
    "\n",
    "    payload = {\n",
    "        \"model\": \"gemma3:latest\",\n",
    "        \"messages\": feedback_prompt,\n",
    "        \"temperature\": 0.2,\n",
    "        \"max_tokens\": 500\n",
    "    }\n",
    "\n",
    "    feedback_response = requests.post(url, json=payload)\n",
    "    try:\n",
    "        feedback_json = feedback_response.json()\n",
    "        feedback_text = feedback_json['choices'][0]['message']['content']\n",
    "    except Exception as e:\n",
    "        print(\"Error parsing response:\", feedback_response.text)\n",
    "        feedback_text = \"ERROR: Could not generate feedback\"\n",
    "\n",
    "    feedback_results.append({\n",
    "        \"submission\": s[\"final_submission\"],\n",
    "        \"feedback\": feedback_text\n",
    "    })"
   ]
  },
  {
   "cell_type": "code",
   "execution_count": 27,
   "id": "0ba28ff8",
   "metadata": {},
   "outputs": [
    {
     "name": "stdout",
     "output_type": "stream",
     "text": [
      "Blockchain technology, defined by its decentralization, immutability, and transparency, is transforming traditional accounting practices, particularly in auditing and financial reporting. Its core principles—decentralized ledgers, immutable records, and smart contracts—enable significant improvements in efficiency and trust. Smart contracts automate tasks like invoicing and reconciliation, reducing errors and intermediaries. For auditing, blockchain’s immutable records create tamper-proof audit trails, simplifying verification and enhancing fraud detection. Real-time financial reporting becomes feasible as transactions are instantly recorded on a shared ledger, improving transparency and decision-making. For example, Ernst & Young uses its Blockchain Analyzer to audit cryptocurrency transactions, streamlining assurance processes, while JPMorgan’s Quorum platform facilitates efficient interbank reconciliations. However, challenges persist. Regulatory uncertainty, such as the lack of clear accounting standards for blockchain assets, complicates compliance. Scalability issues in public blockchains and the high cost of integrating with legacy systems pose barriers, particularly for smaller firms. Additionally, adopting blockchain requires significant technical expertise. Despite these hurdles, blockchain’s potential to enhance data integrity and automation signals a transformative shift in accounting, as demonstrated by firms like PwC exploring blockchain-based auditing tools. As technology and regulations evolve, blockchain will likely redefine trust and efficiency in accounting practices.\n",
      "**************************************************\n",
      "\n",
      "Okay, here’s a structured assessment of the student’s submission, aligned with the provided rubric:\n",
      "\n",
      "**1) Overall Summary:**\n",
      "\n",
      "The student demonstrates a solid understanding of blockchain’s core concepts and their potential impact on accounting, particularly regarding audit trails and data integrity. The response effectively highlights key benefits and acknowledges existing challenges. However, the analysis could benefit from greater depth and more specific examples to fully demonstrate a sophisticated understanding of the topic.\n",
      "\n",
      "**2) Criteria Feedback:**\n",
      "\n",
      "*   **Criterion: c1 – Understanding of Blockchain Concepts**\n",
      "    *   **Rating:** Good\n",
      "    *   **Evidence:**\n",
      "        *   “Blockchain technology, defined by its decentralization, immutability, and transparency…” – Accurately describes key concepts.\n",
      "        *   “…smart contracts automate tasks like invoicing and reconciliation, reducing errors and intermediaries.” – Demonstrates understanding of smart contract application.\n",
      "    *   **Improvement Tip:**  Expand on the explanation of ‘immutability’ with a concrete example of how it differs from traditional accounting records.\n",
      "\n",
      "*   **Criterion: c2 – Analysis of Accounting Impact**\n",
      "    *   **Rating:** Good\n",
      "    *   **Evidence:**\n",
      "        *   “blockchain’s immutable records create tamper-proof audit trails, simplifying verification and enhancing fraud detection.” – Clearly articulates a key benefit for auditing.\n",
      "        *   “real-time financial reporting becomes feasible as transactions are instantly recorded on a shared ledger, improving transparency and decision-making.” –  Identifies a significant impact on financial reporting.\n",
      "    *   **Improvement Tip:**  Explore the implications of blockchain for *internal controls* beyond just audit trails. Consider how it could reshape roles and responsibilities within an accounting department.\n",
      "\n",
      "*   **Criterion: c3 – Use of Real-World Examples/Case Studies**\n",
      "    *   **Rating:** Good\n",
      "    *   **Evidence:**\n",
      "        *   “Ernst & Young uses its Blockchain Analyzer to audit cryptocurrency transactions…” – Provides a relevant example.\n",
      "        *   “JPMorgan’s Quorum platform facilitates efficient interbank reconciliations.” – Another useful example.\n",
      "    *   **Improvement Tip:**  Research and include a more detailed case study – perhaps one that examines the implementation of blockchain in a specific industry (e.g., supply chain finance) and the quantifiable benefits achieved.\n",
      "\n",
      "*   **Criterion: c4 – Structure and Academic Style\n"
     ]
    }
   ],
   "source": [
    "print(feedback_results[0][\"submission\"])\n",
    "\n",
    "print(\"*\" * 50)\n",
    "print()\n",
    "\n",
    "print(feedback_results[0][\"feedback\"])"
   ]
  },
  {
   "cell_type": "code",
   "execution_count": null,
   "id": "27eea4b8",
   "metadata": {},
   "outputs": [],
   "source": []
  }
 ],
 "metadata": {
  "kernelspec": {
   "display_name": "base",
   "language": "python",
   "name": "python3"
  },
  "language_info": {
   "codemirror_mode": {
    "name": "ipython",
    "version": 3
   },
   "file_extension": ".py",
   "mimetype": "text/x-python",
   "name": "python",
   "nbconvert_exporter": "python",
   "pygments_lexer": "ipython3",
   "version": "3.10.9"
  }
 },
 "nbformat": 4,
 "nbformat_minor": 5
}
