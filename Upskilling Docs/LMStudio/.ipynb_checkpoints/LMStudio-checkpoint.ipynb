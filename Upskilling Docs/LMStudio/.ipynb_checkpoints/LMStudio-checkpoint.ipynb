{
 "cells": [
  {
   "cell_type": "markdown",
   "id": "c6a6b533",
   "metadata": {},
   "source": [
    "# Libraries"
   ]
  },
  {
   "cell_type": "code",
   "execution_count": 35,
   "id": "a2c29e93",
   "metadata": {},
   "outputs": [],
   "source": [
    "import requests\n",
    "from typing import List, Dict, Any"
   ]
  },
  {
   "cell_type": "markdown",
   "id": "cf4a4c9c",
   "metadata": {},
   "source": [
    "### 1. List Available Models"
   ]
  },
  {
   "cell_type": "code",
   "execution_count": 5,
   "id": "16ded548",
   "metadata": {},
   "outputs": [
    {
     "name": "stdout",
     "output_type": "stream",
     "text": [
      "Available Models:\n",
      "ID: google/gemma-3-1b:2, Type: model\n",
      "ID: google/gemma-3-1b, Type: model\n",
      "ID: text-embedding-nomic-embed-text-v1.5, Type: model\n"
     ]
    }
   ],
   "source": [
    "import requests\n",
    "\n",
    "url = \"http://192.168.0.119:1234/v1/models\"\n",
    "\n",
    "response = requests.get(url)\n",
    "models = response.json()\n",
    "\n",
    "print(\"Available Models:\")\n",
    "for model in models['data']:\n",
    "    model_id = model.get('id', 'N/A')\n",
    "    model_type = model.get('object', 'N/A')  # usually 'model'\n",
    "    print(f\"ID: {model_id}, Type: {model_type}\")"
   ]
  },
  {
   "cell_type": "markdown",
   "id": "0e9c27f1",
   "metadata": {},
   "source": [
    "### 2. Chat Completion (Multi-turn Conversation)"
   ]
  },
  {
   "cell_type": "code",
   "execution_count": 7,
   "id": "ef75d63e",
   "metadata": {
    "scrolled": true
   },
   "outputs": [
    {
     "name": "stdout",
     "output_type": "stream",
     "text": [
      "AI Response: Okay, let's break down the benefits of using LM Studio – it’s a powerful tool for anyone working with large language models (LLMs)! Here's a breakdown, categorized by different aspects:\n",
      "\n",
      "**1. Simplified Model Creation & Training:**\n",
      "\n",
      "* **No Coding Required (Mostly):** This is the BIGGEST benefit. LM Studio lets you *build* models using a visual, intuitive interface – think of it as a drag-and-drop, step-by-step building process. It doesn't require you to write complex code or understand deep learning concepts.  You can directly interact with the LLM through a visual prompt editor.\n",
      "* **Pre-built Templates:** LM Studio offers pre-configured templates for common LLM tasks like summarization, translation, question answering, content generation, and more.  This dramatically reduces the initial learning curve for various use cases.\n",
      "* **Visual Prompt Engineering:** The visual interface lets you craft prompts *directly* – you can specify things like tone, style, length, and keywords.  It's very intuitive to see how your prompts are influencing the output.\n",
      "* **Auto-Generation:**  It automatically generates code for many of these tasks, saving you a massive amount of time and effort. \n",
      "\n",
      "**2. Enhanced Experimentation & Iteration:**\n",
      "\n",
      "* **Rapid Prototyping:** You can quickly prototype different LLM approaches and see the results in a visual way. This allows for rapid experimentation without needing to write massive amounts of code.\n",
      "* **Flexibility:**  You can easily change the prompts, models, and parameters without tweaking code. This means you can quickly adapt to different tasks or desired outputs.\n",
      "* **Experiment with Different Models:**  LM Studio allows you to easily switch between different LLM models (e.g., Llama 2, Mistral AI) without needing to rewrite your entire workflow for each model.\n",
      "\n",
      "**3. Productivity & Efficiency:**\n",
      "\n",
      "* **Reduced Time to Value:**  The visual interface and automated code generation significantly reduce the time required to build and experiment with LLMs.\n",
      "* **Simplified Workflow:** It streamlines the process of setting up, running, and evaluating LLM models.\n",
      "* **Focus on Prompting:** It prioritizes prompt engineering – you spend more time crafting effective prompts rather than struggling with complex code.\n",
      "\n",
      "**4. Advanced Features (Worth Noting):**\n",
      "\n",
      "* **Model Export:** You can export results of your prompts directly into different formats, useful for integration with other tools or platforms.\n",
      "* **Integration with Other Tools:** LM Studio integrates with ecosystem tools like GitHub and other development environments.\n",
      "* **Community Support & Resources:**  It has a growing community of users and provides helpful resources, tutorials, and examples.\n",
      "\n",
      "\n",
      "**In short:** **LM Studio is designed to democratize LLM development by making it accessible and easy for anyone, regardless of their coding experience.**\n",
      "\n",
      "**Do you want me to elaborate on a specific aspect or feature further? For example, would you like me to:**\n",
      "\n",
      "*   Give some examples of use cases for LM Studio?\n",
      "*   Compare it to other LLM creation tools (e.g., GitHub Copilot)?\n"
     ]
    }
   ],
   "source": [
    "url = \"http://192.168.0.119:1234/v1/chat/completions\"  # Remove 'POST' from the URL\n",
    "\n",
    "payload = {\n",
    "    \"model\": \"gemma-3-1b\",\n",
    "    \"messages\": [\n",
    "        {\"role\": \"system\", \"content\": \"You are a helpful assistant.\"},\n",
    "        {\"role\": \"user\", \"content\": \"Explain the benefits of LMStudio.\"}\n",
    "    ]\n",
    "}\n",
    "\n",
    "response = requests.post(url, json=payload)\n",
    "chat_response = response.json()\n",
    "\n",
    "print(\"AI Response:\", chat_response['choices'][0]['message']['content'])"
   ]
  },
  {
   "cell_type": "markdown",
   "id": "39552fb1",
   "metadata": {},
   "source": [
    "### AAIE Model Prompts"
   ]
  },
  {
   "cell_type": "code",
   "execution_count": 29,
   "id": "39179f40",
   "metadata": {},
   "outputs": [],
   "source": [
    "SYSTEM_PROMPT = \"You are a careful academic assistant. Be precise and give clear structured output (not JSON, not CSV, no files).\"\n",
    "\n",
    "def build_detection_prompt(submission: str, few_shots: List[Dict[str, Any]]) -> List[Dict[str, str]]:\n",
    "    \"\"\"\n",
    "    Academic Integrity Detector Prompt\n",
    "    ----------------------------------\n",
    "    Purpose:\n",
    "        Classifies student submissions as Human, AI, or Hybrid (AI-assisted).\n",
    "\n",
    "    Technique:\n",
    "        - Role-based prompting\n",
    "        - Few-shot support\n",
    "        - CoT (reasoning encouraged but hidden from output)\n",
    "        - Output in plain text \n",
    "\n",
    "    Expected Output (example format in plain text):\n",
    "        Label: Human | AI | Hybrid\n",
    "        Rationale:\n",
    "        - short bullet point 1\n",
    "        - short bullet point 2\n",
    "        Flags: style_inconsistency / high_verbatim / generic_phrasing / none\n",
    "    \"\"\"\n",
    "    # Build few-shot block\n",
    "    shot_texts = []\n",
    "    for s in few_shots:\n",
    "        shot_texts.append(\n",
    "            f'Submission: \"\"\"{s.get(\"final_submission\",\"\")}\"\"\"\\n'\n",
    "            f'Your analysis (2–4 bullet points): <analysis>\\n'\n",
    "            f'Label: {s.get(\"label_type\",\"\")}\\n'\n",
    "        )\n",
    "    examples_block = \"\\n\\n\".join(shot_texts) if shot_texts else \"/* no examples available */\"\n",
    "\n",
    "    user = f\"\"\"\n",
    "You are an AI text-source classifier for academic integrity.\n",
    "Decide whether the student submission is Human, AI, or Hybrid (AI-assisted).\n",
    "\n",
    "Guidelines:\n",
    "- Consider discourse features (specificity, subjectivity, personal context), style consistency, local/global coherence, repetitiveness, and cliché patterns.\n",
    "- Hybrid = meaningful human writing with some AI assistance, or explicit admission of mixed use.\n",
    "\n",
    "Examples:\n",
    "{examples_block}\n",
    "\n",
    "Now analyze the NEW submission and respond in plain text with the following structure:\n",
    "Label: ...\n",
    "Rationale:\n",
    "- point 1\n",
    "- point 2\n",
    "Flags: ...\n",
    "NEW submission:\n",
    "\\\"\\\"\\\"{submission}\\\"\\\"\\\"\\n\n",
    "\"\"\"\n",
    "    return [\n",
    "        {\"role\": \"system\", \"content\": SYSTEM_PROMPT},\n",
    "        {\"role\": \"user\", \"content\": user},\n",
    "    ]\n",
    "\n",
    "\n",
    "def build_feedback_prompt(domain: str, assignment_prompt: str, rubric_text: str, submission: str) -> List[Dict[str, str]]:\n",
    "    \"\"\"\n",
    "    Rubric-Aligned Feedback Prompt\n",
    "    ------------------------------\n",
    "    Purpose:\n",
    "        Generates structured, supportive feedback for a student submission.\n",
    "\n",
    "    Technique:\n",
    "        - Role-based prompting\n",
    "        - Rubric-grounded evaluation\n",
    "        - Output in plain text \n",
    "\n",
    "    Expected Output (example format in plain text):\n",
    "        Overall Summary:\n",
    "        <2–4 sentence overview>\n",
    "\n",
    "        Criteria Feedback:\n",
    "        Criterion: <criterion_id>\n",
    "        Rating: Excellent | Good | Average | Needs Improvement | Poor\n",
    "        Reason:\n",
    "        - point 1\n",
    "        - point 2\n",
    "        Improvement Tip: one concrete suggestion\n",
    "\n",
    "        Overall Rating: Excellent | Good | Average | Needs Improvement | Poor\n",
    "    \"\"\"\n",
    "    user = f\"\"\"\n",
    "You are a supportive assessor. Provide actionable feedback aligned to the rubric.\n",
    "Return plain structured text only (no JSON, no files).\n",
    "\n",
    "Sections to include:\n",
    "1) Overall Summary: 2–4 sentences on strengths and priorities.\n",
    "2) Criteria Feedback: for each rubric criterion include:\n",
    "   - Criterion\n",
    "   - Rating (excellent, good, average, needs_improvement, poor)\n",
    "   - Evidence (1–3 bullet points citing excerpts or behaviors)\n",
    "   - Improvement Tip (one concrete step)\n",
    "3) Overall Rating: Excellent | Good | Average | Needs Improvement | Poor\n",
    "\n",
    "Context:\n",
    "- Domain: {domain}\n",
    "- Assignment prompt: {assignment_prompt}\n",
    "\n",
    "Rubric (verbatim):\n",
    "{rubric_text}\n",
    "\n",
    "Student submission:\n",
    "\\\"\\\"\\\"{submission}\\\"\\\"\\\"\\n\n",
    "\"\"\"\n",
    "    return [\n",
    "        {\"role\": \"system\", \"content\": SYSTEM_PROMPT},\n",
    "        {\"role\": \"user\", \"content\": user},\n",
    "    ]\n"
   ]
  },
  {
   "cell_type": "markdown",
   "id": "005ce073",
   "metadata": {},
   "source": [
    "### Loading Training Data"
   ]
  },
  {
   "cell_type": "code",
   "execution_count": 43,
   "id": "a10b5692",
   "metadata": {},
   "outputs": [],
   "source": [
    "with open(\"Training_Data/accounting.json\", \"r\") as f:\n",
    "    data = json.load(f)"
   ]
  },
  {
   "cell_type": "markdown",
   "id": "3c43aefb",
   "metadata": {},
   "source": [
    "### Generating Feedback"
   ]
  },
  {
   "cell_type": "code",
   "execution_count": 46,
   "id": "cf0fe7c1",
   "metadata": {},
   "outputs": [],
   "source": [
    "# Loop over all submissions\n",
    "for s in data[\"submissions\"]:\n",
    "    feedback_prompt = build_feedback_prompt(\n",
    "        domain=data[\"domain\"],\n",
    "        assignment_prompt=data[\"prompt\"],\n",
    "        rubric_text=json.dumps(data[\"rubric\"], indent=2),\n",
    "        submission=s[\"final_submission\"]\n",
    "    )\n",
    "\n",
    "    # Send request to LM Studio\n",
    "    feedback_response = requests.post(\n",
    "        f\"{BASE_URL}/chat/completions\",\n",
    "        json={\n",
    "            \"model\": MODEL_NAME,\n",
    "            \"messages\": feedback_prompt,\n",
    "            \"temperature\": 0.2,\n",
    "            \"max_tokens\": 500\n",
    "        }\n",
    "    )\n",
    "\n",
    "    feedback_json = feedback_response.json()\n",
    "    feedback_text = feedback_json['choices'][0]['message']['content']\n",
    "\n",
    "    feedback_results.append({\n",
    "        \"submission\": s[\"final_submission\"],\n",
    "        \"feedback\": feedback_text\n",
    "    })"
   ]
  },
  {
   "cell_type": "code",
   "execution_count": 49,
   "id": "0ba28ff8",
   "metadata": {},
   "outputs": [
    {
     "name": "stdout",
     "output_type": "stream",
     "text": [
      "Blockchain technology, defined by its decentralization, immutability, and transparency, is transforming traditional accounting practices, particularly in auditing and financial reporting. Its core principles—decentralized ledgers, immutable records, and smart contracts—enable significant improvements in efficiency and trust. Smart contracts automate tasks like invoicing and reconciliation, reducing errors and intermediaries. For auditing, blockchain’s immutable records create tamper-proof audit trails, simplifying verification and enhancing fraud detection. Real-time financial reporting becomes feasible as transactions are instantly recorded on a shared ledger, improving transparency and decision-making. For example, Ernst & Young uses its Blockchain Analyzer to audit cryptocurrency transactions, streamlining assurance processes, while JPMorgan’s Quorum platform facilitates efficient interbank reconciliations. However, challenges persist. Regulatory uncertainty, such as the lack of clear accounting standards for blockchain assets, complicates compliance. Scalability issues in public blockchains and the high cost of integrating with legacy systems pose barriers, particularly for smaller firms. Additionally, adopting blockchain requires significant technical expertise. Despite these hurdles, blockchain’s potential to enhance data integrity and automation signals a transformative shift in accounting, as demonstrated by firms like PwC exploring blockchain-based auditing tools. As technology and regulations evolve, blockchain will likely redefine trust and efficiency in accounting practices.\n",
      "**************************************************\n",
      "\n",
      "## Overall Summary\n",
      "\n",
      "This assignment demonstrates a solid understanding of blockchain technology and its potential impact on accounting practices. The student effectively analyzes the key benefits – enhanced transparency, automation, and improved audit trails – while acknowledging potential challenges like regulatory uncertainty and implementation costs. The essay demonstrates a clear understanding of the core concepts and provides relevant examples, showcasing a good grasp of the topic.\n",
      "\n",
      "## Criteria Feedback\n",
      "\n",
      "Here’s a breakdown of the rubric criteria and feedback:\n",
      "\n",
      "**1. Understanding of Blockchain Concepts (c1)**\n",
      "   - **Rating:** Good\n",
      "   - **Evidence:**  \"Smart contracts automate invoicing and reconciliation, reducing errors and intermediaries.\" - This is a good example of how blockchain automates a process.\n",
      "   - **Improvement Tip:**  \"Expand on the benefits of immutability in auditing. Consider how it directly supports regulatory compliance and fraud prevention.\" -  Adding more detail about the role of immutable records in audit trails would strengthen this section.\n",
      "\n",
      "**2. Analysis of Accounting Impact (c2)**\n",
      "   - **Rating:** Average\n",
      "   - **Evidence:** \"Smart contracts automate invoicing and reconciliation, reducing errors and intermediaries.\" -  This is a good example of the automation benefits.\n",
      "   - **Improvement Tip:** \"Discuss how blockchain's transparency can improve financial reporting and reduce reliance on intermediaries. Consider the implications for regulatory oversight.\" -  Adding a discussion of how blockchain can improve financial reporting and reduce reliance on intermediaries would strengthen this section.\n",
      "\n",
      "**3. Use of Real-World Examples/Case Studies (c3)**\n",
      "   - **Rating:**  Needs Improvement\n",
      "   - **Evidence:** \"Ermnst & Young uses its Blockchain Analyzer to audit cryptocurrency transactions, streamlining assurance processes...\" - This is a good example of a real-world application.\n",
      "   - **Improvement Tip:** \"Provide more detail about the specific challenges and successes of this example.  For instance, what are the key data points being audited? What specific benefits were realized?\" - Adding more detail about the specifics of the example and its impact would strengthen this section.\n",
      "\n",
      "**4. Structure and Academic Style (c4)**\n",
      "   - **Rating:**  Good\n",
      "   - **Evidence:** \"Highly coherent essay with formal tone and logical flow.\" - This is a good assessment of the writing style.\n",
      "   - **Improvement Tip:** \"Strengthen the introduction by explicitly stating the purpose of the essay. Consider adding a concluding sentence summarizing the overall\n"
     ]
    }
   ],
   "source": [
    "print(feedback_results[0][\"submission\"])\n",
    "\n",
    "print(\"*\" * 50)\n",
    "print()\n",
    "\n",
    "print(feedback_results[0][\"feedback\"])"
   ]
  },
  {
   "cell_type": "code",
   "execution_count": null,
   "id": "27eea4b8",
   "metadata": {},
   "outputs": [],
   "source": []
  }
 ],
 "metadata": {
  "kernelspec": {
   "display_name": "Python 3 (ipykernel)",
   "language": "python",
   "name": "python3"
  },
  "language_info": {
   "codemirror_mode": {
    "name": "ipython",
    "version": 3
   },
   "file_extension": ".py",
   "mimetype": "text/x-python",
   "name": "python",
   "nbconvert_exporter": "python",
   "pygments_lexer": "ipython3",
   "version": "3.10.9"
  }
 },
 "nbformat": 4,
 "nbformat_minor": 5
}
